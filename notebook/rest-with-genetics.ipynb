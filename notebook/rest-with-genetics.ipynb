{
 "cells": [
  {
   "cell_type": "code",
   "execution_count": 8,
   "id": "7acc38ff-f393-4e66-9fbb-eefce8d471c4",
   "metadata": {},
   "outputs": [],
   "source": [
    "import pandas as pd\n",
    "import numpy as np\n",
    "import seaborn as sns\n",
    "from matplotlib import pyplot as plt\n",
    "from sklearn.model_selection import train_test_split\n",
    "from sklearn.linear_model import LinearRegression"
   ]
  },
  {
   "cell_type": "code",
   "execution_count": 9,
   "id": "5febc6c4-0386-4bcb-baed-e5dd442c0d8c",
   "metadata": {},
   "outputs": [],
   "source": [
    "df=pd.read_excel('/Users/muzahidulislam/Developer/ML/healthCarePremium_project/premiums_rest.xlsx')"
   ]
  },
  {
   "cell_type": "code",
   "execution_count": 10,
   "id": "d38b7fd8-fe4b-4647-b006-c232656cf0ad",
   "metadata": {},
   "outputs": [],
   "source": [
    "df['Genetical_Risk']=0"
   ]
  },
  {
   "cell_type": "code",
   "execution_count": 11,
   "id": "0f6b3e06-5f94-431e-a717-007d48cbb66f",
   "metadata": {},
   "outputs": [
    {
     "data": {
      "text/plain": [
       "(29904, 14)"
      ]
     },
     "execution_count": 11,
     "metadata": {},
     "output_type": "execute_result"
    }
   ],
   "source": [
    "df.shape"
   ]
  },
  {
   "cell_type": "code",
   "execution_count": 12,
   "id": "1ffcdac3-6ef7-43af-908a-fe7c7256c395",
   "metadata": {},
   "outputs": [],
   "source": [
    "df.columns=df.columns.str.replace(' ','_').str.lower()"
   ]
  },
  {
   "cell_type": "code",
   "execution_count": 13,
   "id": "43cd8b58-e93c-4b9a-b1d2-ab212164cc28",
   "metadata": {},
   "outputs": [
    {
     "data": {
      "text/html": [
       "<div>\n",
       "<style scoped>\n",
       "    .dataframe tbody tr th:only-of-type {\n",
       "        vertical-align: middle;\n",
       "    }\n",
       "\n",
       "    .dataframe tbody tr th {\n",
       "        vertical-align: top;\n",
       "    }\n",
       "\n",
       "    .dataframe thead th {\n",
       "        text-align: right;\n",
       "    }\n",
       "</style>\n",
       "<table border=\"1\" class=\"dataframe\">\n",
       "  <thead>\n",
       "    <tr style=\"text-align: right;\">\n",
       "      <th></th>\n",
       "      <th>age</th>\n",
       "      <th>gender</th>\n",
       "      <th>region</th>\n",
       "      <th>marital_status</th>\n",
       "      <th>number_of_dependants</th>\n",
       "      <th>bmi_category</th>\n",
       "      <th>smoking_status</th>\n",
       "      <th>employment_status</th>\n",
       "      <th>income_level</th>\n",
       "      <th>income_lakhs</th>\n",
       "      <th>medical_history</th>\n",
       "      <th>insurance_plan</th>\n",
       "      <th>annual_premium_amount</th>\n",
       "      <th>genetical_risk</th>\n",
       "    </tr>\n",
       "  </thead>\n",
       "  <tbody>\n",
       "    <tr>\n",
       "      <th>0</th>\n",
       "      <td>26</td>\n",
       "      <td>Male</td>\n",
       "      <td>Northwest</td>\n",
       "      <td>Unmarried</td>\n",
       "      <td>0</td>\n",
       "      <td>Normal</td>\n",
       "      <td>No Smoking</td>\n",
       "      <td>Salaried</td>\n",
       "      <td>&lt;10L</td>\n",
       "      <td>6</td>\n",
       "      <td>Diabetes</td>\n",
       "      <td>Bronze</td>\n",
       "      <td>9053</td>\n",
       "      <td>0</td>\n",
       "    </tr>\n",
       "    <tr>\n",
       "      <th>1</th>\n",
       "      <td>29</td>\n",
       "      <td>Female</td>\n",
       "      <td>Southeast</td>\n",
       "      <td>Married</td>\n",
       "      <td>2</td>\n",
       "      <td>Obesity</td>\n",
       "      <td>Regular</td>\n",
       "      <td>Salaried</td>\n",
       "      <td>&lt;10L</td>\n",
       "      <td>6</td>\n",
       "      <td>Diabetes</td>\n",
       "      <td>Bronze</td>\n",
       "      <td>16339</td>\n",
       "      <td>0</td>\n",
       "    </tr>\n",
       "    <tr>\n",
       "      <th>2</th>\n",
       "      <td>49</td>\n",
       "      <td>Female</td>\n",
       "      <td>Northeast</td>\n",
       "      <td>Married</td>\n",
       "      <td>2</td>\n",
       "      <td>Normal</td>\n",
       "      <td>No Smoking</td>\n",
       "      <td>Self-Employed</td>\n",
       "      <td>10L - 25L</td>\n",
       "      <td>20</td>\n",
       "      <td>High blood pressure</td>\n",
       "      <td>Silver</td>\n",
       "      <td>18164</td>\n",
       "      <td>0</td>\n",
       "    </tr>\n",
       "  </tbody>\n",
       "</table>\n",
       "</div>"
      ],
      "text/plain": [
       "   age  gender     region marital_status  number_of_dependants bmi_category  \\\n",
       "0   26    Male  Northwest      Unmarried                     0       Normal   \n",
       "1   29  Female  Southeast        Married                     2      Obesity   \n",
       "2   49  Female  Northeast        Married                     2       Normal   \n",
       "\n",
       "  smoking_status employment_status income_level  income_lakhs  \\\n",
       "0     No Smoking          Salaried         <10L             6   \n",
       "1        Regular          Salaried         <10L             6   \n",
       "2     No Smoking     Self-Employed    10L - 25L            20   \n",
       "\n",
       "       medical_history insurance_plan  annual_premium_amount  genetical_risk  \n",
       "0             Diabetes         Bronze                   9053               0  \n",
       "1             Diabetes         Bronze                  16339               0  \n",
       "2  High blood pressure         Silver                  18164               0  "
      ]
     },
     "execution_count": 13,
     "metadata": {},
     "output_type": "execute_result"
    }
   ],
   "source": [
    "df.head(3)"
   ]
  },
  {
   "cell_type": "code",
   "execution_count": 14,
   "id": "b5239f4c-4991-44ad-b32d-2e62ebefa2d8",
   "metadata": {},
   "outputs": [
    {
     "data": {
      "text/plain": [
       "age                      0\n",
       "gender                   0\n",
       "region                   0\n",
       "marital_status           0\n",
       "number_of_dependants     0\n",
       "bmi_category             0\n",
       "smoking_status           9\n",
       "employment_status        1\n",
       "income_level             9\n",
       "income_lakhs             0\n",
       "medical_history          0\n",
       "insurance_plan           0\n",
       "annual_premium_amount    0\n",
       "genetical_risk           0\n",
       "dtype: int64"
      ]
     },
     "execution_count": 14,
     "metadata": {},
     "output_type": "execute_result"
    }
   ],
   "source": [
    "df.isna().sum()"
   ]
  },
  {
   "cell_type": "markdown",
   "id": "f292850c-da9a-4df4-93c1-6f513137d906",
   "metadata": {},
   "source": [
    "### Handle NA value"
   ]
  },
  {
   "cell_type": "code",
   "execution_count": 15,
   "id": "1df065c8-01a9-413e-a8c8-352df45ff2ce",
   "metadata": {},
   "outputs": [
    {
     "name": "stderr",
     "output_type": "stream",
     "text": [
      "/var/folders/d3/9f30r0893dl1cg6wk53v98rr0000gn/T/ipykernel_13634/1040079542.py:1: FutureWarning: A value is trying to be set on a copy of a DataFrame or Series through chained assignment using an inplace method.\n",
      "The behavior will change in pandas 3.0. This inplace method will never work because the intermediate object on which we are setting values always behaves as a copy.\n",
      "\n",
      "For example, when doing 'df[col].method(value, inplace=True)', try using 'df.method({col: value}, inplace=True)' or df[col] = df[col].method(value) instead, to perform the operation inplace on the original object.\n",
      "\n",
      "\n",
      "  df['smoking_status'].fillna(df['smoking_status'].mode()[0],inplace=True)\n",
      "/var/folders/d3/9f30r0893dl1cg6wk53v98rr0000gn/T/ipykernel_13634/1040079542.py:2: FutureWarning: A value is trying to be set on a copy of a DataFrame or Series through chained assignment using an inplace method.\n",
      "The behavior will change in pandas 3.0. This inplace method will never work because the intermediate object on which we are setting values always behaves as a copy.\n",
      "\n",
      "For example, when doing 'df[col].method(value, inplace=True)', try using 'df.method({col: value}, inplace=True)' or df[col] = df[col].method(value) instead, to perform the operation inplace on the original object.\n",
      "\n",
      "\n",
      "  df['employment_status'].fillna(df['employment_status'].mode()[0],inplace=True)\n"
     ]
    }
   ],
   "source": [
    "df['smoking_status'].fillna(df['smoking_status'].mode()[0],inplace=True)\n",
    "df['employment_status'].fillna(df['employment_status'].mode()[0],inplace=True)"
   ]
  },
  {
   "cell_type": "code",
   "execution_count": 16,
   "id": "78115f25-f376-4822-ad87-21de3d8b62de",
   "metadata": {},
   "outputs": [
    {
     "data": {
      "text/plain": [
       "age                      0\n",
       "gender                   0\n",
       "region                   0\n",
       "marital_status           0\n",
       "number_of_dependants     0\n",
       "bmi_category             0\n",
       "smoking_status           0\n",
       "employment_status        0\n",
       "income_level             9\n",
       "income_lakhs             0\n",
       "medical_history          0\n",
       "insurance_plan           0\n",
       "annual_premium_amount    0\n",
       "genetical_risk           0\n",
       "dtype: int64"
      ]
     },
     "execution_count": 16,
     "metadata": {},
     "output_type": "execute_result"
    }
   ],
   "source": [
    "df.isna().sum()"
   ]
  },
  {
   "cell_type": "code",
   "execution_count": 17,
   "id": "2bd4c920-fe67-43f4-bb34-29a2101c7fc9",
   "metadata": {},
   "outputs": [
    {
     "data": {
      "text/plain": [
       "0        False\n",
       "1        False\n",
       "2        False\n",
       "3        False\n",
       "4        False\n",
       "         ...  \n",
       "29899    False\n",
       "29900    False\n",
       "29901    False\n",
       "29902    False\n",
       "29903    False\n",
       "Name: income_level, Length: 29904, dtype: bool"
      ]
     },
     "execution_count": 17,
     "metadata": {},
     "output_type": "execute_result"
    }
   ],
   "source": [
    "df['income_level'].isna()"
   ]
  },
  {
   "cell_type": "code",
   "execution_count": 18,
   "id": "e17f5cbc-a981-41a1-96b3-26abebf0a8cb",
   "metadata": {},
   "outputs": [],
   "source": [
    "df.dropna(inplace=True)"
   ]
  },
  {
   "cell_type": "code",
   "execution_count": 19,
   "id": "e8489bc7-c2f2-48c6-bad4-b17dc808a34d",
   "metadata": {},
   "outputs": [
    {
     "data": {
      "text/plain": [
       "age                      0\n",
       "gender                   0\n",
       "region                   0\n",
       "marital_status           0\n",
       "number_of_dependants     0\n",
       "bmi_category             0\n",
       "smoking_status           0\n",
       "employment_status        0\n",
       "income_level             0\n",
       "income_lakhs             0\n",
       "medical_history          0\n",
       "insurance_plan           0\n",
       "annual_premium_amount    0\n",
       "genetical_risk           0\n",
       "dtype: int64"
      ]
     },
     "execution_count": 19,
     "metadata": {},
     "output_type": "execute_result"
    }
   ],
   "source": [
    "df.isna().sum()"
   ]
  },
  {
   "cell_type": "code",
   "execution_count": 20,
   "id": "bdcc9706-09b0-497d-a955-3996ff6c47b9",
   "metadata": {},
   "outputs": [
    {
     "data": {
      "text/plain": [
       "(29895, 14)"
      ]
     },
     "execution_count": 20,
     "metadata": {},
     "output_type": "execute_result"
    }
   ],
   "source": [
    "df.shape"
   ]
  },
  {
   "cell_type": "code",
   "execution_count": 21,
   "id": "352bdb80-8be1-44de-833b-a62ac4eb1c9b",
   "metadata": {},
   "outputs": [
    {
     "data": {
      "text/plain": [
       "np.int64(0)"
      ]
     },
     "execution_count": 21,
     "metadata": {},
     "output_type": "execute_result"
    }
   ],
   "source": [
    "df.duplicated().sum()\n",
    "df.drop_duplicates(inplace=True)\n",
    "df.duplicated().sum()"
   ]
  },
  {
   "cell_type": "code",
   "execution_count": 22,
   "id": "3a72ab76-5c56-41ee-ba7d-474ec7f33c0e",
   "metadata": {},
   "outputs": [
    {
     "data": {
      "text/html": [
       "<div>\n",
       "<style scoped>\n",
       "    .dataframe tbody tr th:only-of-type {\n",
       "        vertical-align: middle;\n",
       "    }\n",
       "\n",
       "    .dataframe tbody tr th {\n",
       "        vertical-align: top;\n",
       "    }\n",
       "\n",
       "    .dataframe thead th {\n",
       "        text-align: right;\n",
       "    }\n",
       "</style>\n",
       "<table border=\"1\" class=\"dataframe\">\n",
       "  <thead>\n",
       "    <tr style=\"text-align: right;\">\n",
       "      <th></th>\n",
       "      <th>age</th>\n",
       "      <th>number_of_dependants</th>\n",
       "      <th>income_lakhs</th>\n",
       "      <th>annual_premium_amount</th>\n",
       "      <th>genetical_risk</th>\n",
       "    </tr>\n",
       "  </thead>\n",
       "  <tbody>\n",
       "    <tr>\n",
       "      <th>count</th>\n",
       "      <td>29895.000000</td>\n",
       "      <td>29895.000000</td>\n",
       "      <td>29895.000000</td>\n",
       "      <td>29895.000000</td>\n",
       "      <td>29895.0</td>\n",
       "    </tr>\n",
       "    <tr>\n",
       "      <th>mean</th>\n",
       "      <td>43.397893</td>\n",
       "      <td>2.380164</td>\n",
       "      <td>23.367152</td>\n",
       "      <td>20893.855093</td>\n",
       "      <td>0.0</td>\n",
       "    </tr>\n",
       "    <tr>\n",
       "      <th>std</th>\n",
       "      <td>13.412810</td>\n",
       "      <td>1.431148</td>\n",
       "      <td>24.739037</td>\n",
       "      <td>6936.583713</td>\n",
       "      <td>0.0</td>\n",
       "    </tr>\n",
       "    <tr>\n",
       "      <th>min</th>\n",
       "      <td>26.000000</td>\n",
       "      <td>-3.000000</td>\n",
       "      <td>1.000000</td>\n",
       "      <td>3625.000000</td>\n",
       "      <td>0.0</td>\n",
       "    </tr>\n",
       "    <tr>\n",
       "      <th>25%</th>\n",
       "      <td>34.000000</td>\n",
       "      <td>1.000000</td>\n",
       "      <td>7.000000</td>\n",
       "      <td>15698.000000</td>\n",
       "      <td>0.0</td>\n",
       "    </tr>\n",
       "    <tr>\n",
       "      <th>50%</th>\n",
       "      <td>42.000000</td>\n",
       "      <td>3.000000</td>\n",
       "      <td>17.000000</td>\n",
       "      <td>20492.000000</td>\n",
       "      <td>0.0</td>\n",
       "    </tr>\n",
       "    <tr>\n",
       "      <th>75%</th>\n",
       "      <td>52.000000</td>\n",
       "      <td>3.000000</td>\n",
       "      <td>32.000000</td>\n",
       "      <td>26360.500000</td>\n",
       "      <td>0.0</td>\n",
       "    </tr>\n",
       "    <tr>\n",
       "      <th>max</th>\n",
       "      <td>356.000000</td>\n",
       "      <td>5.000000</td>\n",
       "      <td>930.000000</td>\n",
       "      <td>43471.000000</td>\n",
       "      <td>0.0</td>\n",
       "    </tr>\n",
       "  </tbody>\n",
       "</table>\n",
       "</div>"
      ],
      "text/plain": [
       "                age  number_of_dependants  income_lakhs  \\\n",
       "count  29895.000000          29895.000000  29895.000000   \n",
       "mean      43.397893              2.380164     23.367152   \n",
       "std       13.412810              1.431148     24.739037   \n",
       "min       26.000000             -3.000000      1.000000   \n",
       "25%       34.000000              1.000000      7.000000   \n",
       "50%       42.000000              3.000000     17.000000   \n",
       "75%       52.000000              3.000000     32.000000   \n",
       "max      356.000000              5.000000    930.000000   \n",
       "\n",
       "       annual_premium_amount  genetical_risk  \n",
       "count           29895.000000         29895.0  \n",
       "mean            20893.855093             0.0  \n",
       "std              6936.583713             0.0  \n",
       "min              3625.000000             0.0  \n",
       "25%             15698.000000             0.0  \n",
       "50%             20492.000000             0.0  \n",
       "75%             26360.500000             0.0  \n",
       "max             43471.000000             0.0  "
      ]
     },
     "execution_count": 22,
     "metadata": {},
     "output_type": "execute_result"
    }
   ],
   "source": [
    "df.describe()"
   ]
  },
  {
   "cell_type": "code",
   "execution_count": 23,
   "id": "3d2aa12f-b4a1-439b-b1c5-1e4769c757ad",
   "metadata": {},
   "outputs": [
    {
     "data": {
      "text/plain": [
       "array([-1, -3])"
      ]
     },
     "execution_count": 23,
     "metadata": {},
     "output_type": "execute_result"
    }
   ],
   "source": [
    "df[df.number_of_dependants<0]['number_of_dependants'].unique()"
   ]
  },
  {
   "cell_type": "code",
   "execution_count": 24,
   "id": "47f0afc2-054f-4878-8d79-277631efc73f",
   "metadata": {},
   "outputs": [],
   "source": [
    "df['number_of_dependants']=abs(df['number_of_dependants'])"
   ]
  },
  {
   "cell_type": "code",
   "execution_count": 25,
   "id": "431215aa-c17a-4760-83a8-05df0ef7320d",
   "metadata": {},
   "outputs": [
    {
     "data": {
      "text/html": [
       "<div>\n",
       "<style scoped>\n",
       "    .dataframe tbody tr th:only-of-type {\n",
       "        vertical-align: middle;\n",
       "    }\n",
       "\n",
       "    .dataframe tbody tr th {\n",
       "        vertical-align: top;\n",
       "    }\n",
       "\n",
       "    .dataframe thead th {\n",
       "        text-align: right;\n",
       "    }\n",
       "</style>\n",
       "<table border=\"1\" class=\"dataframe\">\n",
       "  <thead>\n",
       "    <tr style=\"text-align: right;\">\n",
       "      <th></th>\n",
       "      <th>age</th>\n",
       "      <th>number_of_dependants</th>\n",
       "      <th>income_lakhs</th>\n",
       "      <th>annual_premium_amount</th>\n",
       "      <th>genetical_risk</th>\n",
       "    </tr>\n",
       "  </thead>\n",
       "  <tbody>\n",
       "    <tr>\n",
       "      <th>count</th>\n",
       "      <td>29895.000000</td>\n",
       "      <td>29895.000000</td>\n",
       "      <td>29895.000000</td>\n",
       "      <td>29895.000000</td>\n",
       "      <td>29895.0</td>\n",
       "    </tr>\n",
       "    <tr>\n",
       "      <th>mean</th>\n",
       "      <td>43.397893</td>\n",
       "      <td>2.386185</td>\n",
       "      <td>23.367152</td>\n",
       "      <td>20893.855093</td>\n",
       "      <td>0.0</td>\n",
       "    </tr>\n",
       "    <tr>\n",
       "      <th>std</th>\n",
       "      <td>13.412810</td>\n",
       "      <td>1.421086</td>\n",
       "      <td>24.739037</td>\n",
       "      <td>6936.583713</td>\n",
       "      <td>0.0</td>\n",
       "    </tr>\n",
       "    <tr>\n",
       "      <th>min</th>\n",
       "      <td>26.000000</td>\n",
       "      <td>0.000000</td>\n",
       "      <td>1.000000</td>\n",
       "      <td>3625.000000</td>\n",
       "      <td>0.0</td>\n",
       "    </tr>\n",
       "    <tr>\n",
       "      <th>25%</th>\n",
       "      <td>34.000000</td>\n",
       "      <td>1.000000</td>\n",
       "      <td>7.000000</td>\n",
       "      <td>15698.000000</td>\n",
       "      <td>0.0</td>\n",
       "    </tr>\n",
       "    <tr>\n",
       "      <th>50%</th>\n",
       "      <td>42.000000</td>\n",
       "      <td>3.000000</td>\n",
       "      <td>17.000000</td>\n",
       "      <td>20492.000000</td>\n",
       "      <td>0.0</td>\n",
       "    </tr>\n",
       "    <tr>\n",
       "      <th>75%</th>\n",
       "      <td>52.000000</td>\n",
       "      <td>3.000000</td>\n",
       "      <td>32.000000</td>\n",
       "      <td>26360.500000</td>\n",
       "      <td>0.0</td>\n",
       "    </tr>\n",
       "    <tr>\n",
       "      <th>max</th>\n",
       "      <td>356.000000</td>\n",
       "      <td>5.000000</td>\n",
       "      <td>930.000000</td>\n",
       "      <td>43471.000000</td>\n",
       "      <td>0.0</td>\n",
       "    </tr>\n",
       "  </tbody>\n",
       "</table>\n",
       "</div>"
      ],
      "text/plain": [
       "                age  number_of_dependants  income_lakhs  \\\n",
       "count  29895.000000          29895.000000  29895.000000   \n",
       "mean      43.397893              2.386185     23.367152   \n",
       "std       13.412810              1.421086     24.739037   \n",
       "min       26.000000              0.000000      1.000000   \n",
       "25%       34.000000              1.000000      7.000000   \n",
       "50%       42.000000              3.000000     17.000000   \n",
       "75%       52.000000              3.000000     32.000000   \n",
       "max      356.000000              5.000000    930.000000   \n",
       "\n",
       "       annual_premium_amount  genetical_risk  \n",
       "count           29895.000000         29895.0  \n",
       "mean            20893.855093             0.0  \n",
       "std              6936.583713             0.0  \n",
       "min              3625.000000             0.0  \n",
       "25%             15698.000000             0.0  \n",
       "50%             20492.000000             0.0  \n",
       "75%             26360.500000             0.0  \n",
       "max             43471.000000             0.0  "
      ]
     },
     "execution_count": 25,
     "metadata": {},
     "output_type": "execute_result"
    }
   ],
   "source": [
    "df.describe()"
   ]
  },
  {
   "cell_type": "code",
   "execution_count": 26,
   "id": "60c0e03f-2ea9-479c-91fd-57b484d10382",
   "metadata": {},
   "outputs": [
    {
     "data": {
      "text/plain": [
       "(58, 14)"
      ]
     },
     "execution_count": 26,
     "metadata": {},
     "output_type": "execute_result"
    }
   ],
   "source": [
    "df[df.age>100].shape"
   ]
  },
  {
   "cell_type": "code",
   "execution_count": 27,
   "id": "05cc2dc5-bb98-4507-b8bf-8a07053eb875",
   "metadata": {},
   "outputs": [
    {
     "data": {
      "text/plain": [
       "Index(['age', 'number_of_dependants', 'income_lakhs', 'annual_premium_amount',\n",
       "       'genetical_risk'],\n",
       "      dtype='object')"
      ]
     },
     "execution_count": 27,
     "metadata": {},
     "output_type": "execute_result"
    }
   ],
   "source": [
    "numeric_columns = df.select_dtypes(['int64','float64'])\n",
    "numeric_columns.columns"
   ]
  },
  {
   "cell_type": "code",
   "execution_count": 28,
   "id": "37796af0-09b5-4669-aa76-a06e1265b376",
   "metadata": {},
   "outputs": [
    {
     "data": {
      "image/png": "[encoded data removed]",
      "text/plain": [
       "<Figure size 640x480 with 1 Axes>"
      ]
     },
     "metadata": {},
     "output_type": "display_data"
    },
    {
     "data": {
      "image/png": "[encoded data removed]",
      "text/plain": [
       "<Figure size 640x480 with 1 Axes>"
      ]
     },
     "metadata": {},
     "output_type": "display_data"
    },
    {
     "data": {
      "image/png": "[encoded data removed]",
      "text/plain": [
       "<Figure size 640x480 with 1 Axes>"
      ]
     },
     "metadata": {},
     "output_type": "display_data"
    },
    {
     "data": {
      "image/png": "[encoded data removed]",
      "text/plain": [
       "<Figure size 640x480 with 1 Axes>"
      ]
     },
     "metadata": {},
     "output_type": "display_data"
    },
    {
     "data": {
      "image/png": "[encoded data removed]",
      "text/plain": [
       "<Figure size 640x480 with 1 Axes>"
      ]
     },
     "metadata": {},
     "output_type": "display_data"
    }
   ],
   "source": [
    "for col in numeric_columns:\n",
    "    sns.boxplot(df[col])\n",
    "    plt.show()"
   ]
  },
  {
   "cell_type": "code",
   "execution_count": 29,
   "id": "ffc96f08-088d-401d-b93f-96e6d66a5bca",
   "metadata": {},
   "outputs": [
    {
     "data": {
      "text/html": [
       "<div>\n",
       "<style scoped>\n",
       "    .dataframe tbody tr th:only-of-type {\n",
       "        vertical-align: middle;\n",
       "    }\n",
       "\n",
       "    .dataframe tbody tr th {\n",
       "        vertical-align: top;\n",
       "    }\n",
       "\n",
       "    .dataframe thead th {\n",
       "        text-align: right;\n",
       "    }\n",
       "</style>\n",
       "<table border=\"1\" class=\"dataframe\">\n",
       "  <thead>\n",
       "    <tr style=\"text-align: right;\">\n",
       "      <th></th>\n",
       "      <th>age</th>\n",
       "      <th>gender</th>\n",
       "      <th>region</th>\n",
       "      <th>marital_status</th>\n",
       "      <th>number_of_dependants</th>\n",
       "      <th>bmi_category</th>\n",
       "      <th>smoking_status</th>\n",
       "      <th>employment_status</th>\n",
       "      <th>income_level</th>\n",
       "      <th>income_lakhs</th>\n",
       "      <th>medical_history</th>\n",
       "      <th>insurance_plan</th>\n",
       "      <th>annual_premium_amount</th>\n",
       "      <th>genetical_risk</th>\n",
       "    </tr>\n",
       "  </thead>\n",
       "  <tbody>\n",
       "    <tr>\n",
       "      <th>0</th>\n",
       "      <td>26</td>\n",
       "      <td>Male</td>\n",
       "      <td>Northwest</td>\n",
       "      <td>Unmarried</td>\n",
       "      <td>0</td>\n",
       "      <td>Normal</td>\n",
       "      <td>No Smoking</td>\n",
       "      <td>Salaried</td>\n",
       "      <td>&lt;10L</td>\n",
       "      <td>6</td>\n",
       "      <td>Diabetes</td>\n",
       "      <td>Bronze</td>\n",
       "      <td>9053</td>\n",
       "      <td>0</td>\n",
       "    </tr>\n",
       "    <tr>\n",
       "      <th>1</th>\n",
       "      <td>29</td>\n",
       "      <td>Female</td>\n",
       "      <td>Southeast</td>\n",
       "      <td>Married</td>\n",
       "      <td>2</td>\n",
       "      <td>Obesity</td>\n",
       "      <td>Regular</td>\n",
       "      <td>Salaried</td>\n",
       "      <td>&lt;10L</td>\n",
       "      <td>6</td>\n",
       "      <td>Diabetes</td>\n",
       "      <td>Bronze</td>\n",
       "      <td>16339</td>\n",
       "      <td>0</td>\n",
       "    </tr>\n",
       "  </tbody>\n",
       "</table>\n",
       "</div>"
      ],
      "text/plain": [
       "   age  gender     region marital_status  number_of_dependants bmi_category  \\\n",
       "0   26    Male  Northwest      Unmarried                     0       Normal   \n",
       "1   29  Female  Southeast        Married                     2      Obesity   \n",
       "\n",
       "  smoking_status employment_status income_level  income_lakhs medical_history  \\\n",
       "0     No Smoking          Salaried         <10L             6        Diabetes   \n",
       "1        Regular          Salaried         <10L             6        Diabetes   \n",
       "\n",
       "  insurance_plan  annual_premium_amount  genetical_risk  \n",
       "0         Bronze                   9053               0  \n",
       "1         Bronze                  16339               0  "
      ]
     },
     "execution_count": 29,
     "metadata": {},
     "output_type": "execute_result"
    }
   ],
   "source": [
    "df.head(2)"
   ]
  },
  {
   "cell_type": "code",
   "execution_count": 30,
   "id": "630fe364-ec78-46e5-890d-9b620f7fe183",
   "metadata": {},
   "outputs": [
    {
     "data": {
      "text/plain": [
       "array([224, 124, 136, 203, 356])"
      ]
     },
     "execution_count": 30,
     "metadata": {},
     "output_type": "execute_result"
    }
   ],
   "source": [
    "df[df.age>100]['age'].unique()"
   ]
  },
  {
   "cell_type": "code",
   "execution_count": 31,
   "id": "2b0bebf7-9d39-45bd-9030-9539248e7005",
   "metadata": {},
   "outputs": [
    {
     "data": {
      "text/plain": [
       "(29895, 14)"
      ]
     },
     "execution_count": 31,
     "metadata": {},
     "output_type": "execute_result"
    }
   ],
   "source": [
    "df.shape"
   ]
  },
  {
   "cell_type": "code",
   "execution_count": 32,
   "id": "121b274a-a66f-44ae-8a25-a800f6f867b7",
   "metadata": {},
   "outputs": [],
   "source": [
    "df1=df[df.age<100].copy()"
   ]
  },
  {
   "cell_type": "code",
   "execution_count": 33,
   "id": "2c55721d-f8af-43e2-8000-77ffb5d82bee",
   "metadata": {},
   "outputs": [
    {
     "data": {
      "text/plain": [
       "(29837, 14)"
      ]
     },
     "execution_count": 33,
     "metadata": {},
     "output_type": "execute_result"
    }
   ],
   "source": [
    "df1.shape"
   ]
  },
  {
   "cell_type": "code",
   "execution_count": 34,
   "id": "dba41102-9a11-4e17-b1f4-c5db1d2533fe",
   "metadata": {},
   "outputs": [
    {
     "data": {
      "text/plain": [
       "<Axes: ylabel='age'>"
      ]
     },
     "execution_count": 34,
     "metadata": {},
     "output_type": "execute_result"
    },
    {
     "data": {
      "image/png": "[encoded data removed]",
      "text/plain": [
       "<Figure size 640x480 with 1 Axes>"
      ]
     },
     "metadata": {},
     "output_type": "display_data"
    }
   ],
   "source": [
    "sns.boxplot(df1['age'])"
   ]
  },
  {
   "cell_type": "code",
   "execution_count": 35,
   "id": "20acc22a-0def-41f7-b1dc-9bc0f630ffa7",
   "metadata": {},
   "outputs": [
    {
     "data": {
      "text/html": [
       "<div>\n",
       "<style scoped>\n",
       "    .dataframe tbody tr th:only-of-type {\n",
       "        vertical-align: middle;\n",
       "    }\n",
       "\n",
       "    .dataframe tbody tr th {\n",
       "        vertical-align: top;\n",
       "    }\n",
       "\n",
       "    .dataframe thead th {\n",
       "        text-align: right;\n",
       "    }\n",
       "</style>\n",
       "<table border=\"1\" class=\"dataframe\">\n",
       "  <thead>\n",
       "    <tr style=\"text-align: right;\">\n",
       "      <th></th>\n",
       "      <th>age</th>\n",
       "      <th>gender</th>\n",
       "      <th>region</th>\n",
       "      <th>marital_status</th>\n",
       "      <th>number_of_dependants</th>\n",
       "      <th>bmi_category</th>\n",
       "      <th>smoking_status</th>\n",
       "      <th>employment_status</th>\n",
       "      <th>income_level</th>\n",
       "      <th>income_lakhs</th>\n",
       "      <th>medical_history</th>\n",
       "      <th>insurance_plan</th>\n",
       "      <th>annual_premium_amount</th>\n",
       "      <th>genetical_risk</th>\n",
       "    </tr>\n",
       "  </thead>\n",
       "  <tbody>\n",
       "    <tr>\n",
       "      <th>0</th>\n",
       "      <td>26</td>\n",
       "      <td>Male</td>\n",
       "      <td>Northwest</td>\n",
       "      <td>Unmarried</td>\n",
       "      <td>0</td>\n",
       "      <td>Normal</td>\n",
       "      <td>No Smoking</td>\n",
       "      <td>Salaried</td>\n",
       "      <td>&lt;10L</td>\n",
       "      <td>6</td>\n",
       "      <td>Diabetes</td>\n",
       "      <td>Bronze</td>\n",
       "      <td>9053</td>\n",
       "      <td>0</td>\n",
       "    </tr>\n",
       "    <tr>\n",
       "      <th>1</th>\n",
       "      <td>29</td>\n",
       "      <td>Female</td>\n",
       "      <td>Southeast</td>\n",
       "      <td>Married</td>\n",
       "      <td>2</td>\n",
       "      <td>Obesity</td>\n",
       "      <td>Regular</td>\n",
       "      <td>Salaried</td>\n",
       "      <td>&lt;10L</td>\n",
       "      <td>6</td>\n",
       "      <td>Diabetes</td>\n",
       "      <td>Bronze</td>\n",
       "      <td>16339</td>\n",
       "      <td>0</td>\n",
       "    </tr>\n",
       "    <tr>\n",
       "      <th>2</th>\n",
       "      <td>49</td>\n",
       "      <td>Female</td>\n",
       "      <td>Northeast</td>\n",
       "      <td>Married</td>\n",
       "      <td>2</td>\n",
       "      <td>Normal</td>\n",
       "      <td>No Smoking</td>\n",
       "      <td>Self-Employed</td>\n",
       "      <td>10L - 25L</td>\n",
       "      <td>20</td>\n",
       "      <td>High blood pressure</td>\n",
       "      <td>Silver</td>\n",
       "      <td>18164</td>\n",
       "      <td>0</td>\n",
       "    </tr>\n",
       "  </tbody>\n",
       "</table>\n",
       "</div>"
      ],
      "text/plain": [
       "   age  gender     region marital_status  number_of_dependants bmi_category  \\\n",
       "0   26    Male  Northwest      Unmarried                     0       Normal   \n",
       "1   29  Female  Southeast        Married                     2      Obesity   \n",
       "2   49  Female  Northeast        Married                     2       Normal   \n",
       "\n",
       "  smoking_status employment_status income_level  income_lakhs  \\\n",
       "0     No Smoking          Salaried         <10L             6   \n",
       "1        Regular          Salaried         <10L             6   \n",
       "2     No Smoking     Self-Employed    10L - 25L            20   \n",
       "\n",
       "       medical_history insurance_plan  annual_premium_amount  genetical_risk  \n",
       "0             Diabetes         Bronze                   9053               0  \n",
       "1             Diabetes         Bronze                  16339               0  \n",
       "2  High blood pressure         Silver                  18164               0  "
      ]
     },
     "execution_count": 35,
     "metadata": {},
     "output_type": "execute_result"
    }
   ],
   "source": [
    "df1.head(3)"
   ]
  },
  {
   "cell_type": "code",
   "execution_count": 36,
   "id": "6383a1da-fd94-484a-84ee-7bc5979df457",
   "metadata": {},
   "outputs": [
    {
     "data": {
      "text/plain": [
       "(29837,)"
      ]
     },
     "execution_count": 36,
     "metadata": {},
     "output_type": "execute_result"
    }
   ],
   "source": [
    "df1.income_lakhs.shape"
   ]
  },
  {
   "cell_type": "code",
   "execution_count": 37,
   "id": "8956f9e9-e1be-40a4-921a-726e6401691d",
   "metadata": {},
   "outputs": [],
   "source": [
    "q3=df.income_lakhs.quantile(.75)"
   ]
  },
  {
   "cell_type": "code",
   "execution_count": 38,
   "id": "8d54dba0-99ad-4d78-947a-603a63767c85",
   "metadata": {},
   "outputs": [
    {
     "data": {
      "text/plain": [
       "np.float64(32.0)"
      ]
     },
     "execution_count": 38,
     "metadata": {},
     "output_type": "execute_result"
    }
   ],
   "source": [
    "q3"
   ]
  },
  {
   "cell_type": "code",
   "execution_count": 39,
   "id": "233c8092-046c-4f28-827b-69fc5f5ffc62",
   "metadata": {},
   "outputs": [],
   "source": [
    "def get_iqr_bounds(col):\n",
    "    q1,q3 = col.quantile([.25,.75])\n",
    "    iqr=q3-q1\n",
    "    lower_bound=q1-1.5*iqr\n",
    "    upper_bound=q3+1.5*iqr\n",
    "    return lower_bound,upper_bound"
   ]
  },
  {
   "cell_type": "code",
   "execution_count": 40,
   "id": "ca86b751-4443-448e-9565-04bbf5254b78",
   "metadata": {},
   "outputs": [
    {
     "data": {
      "text/plain": [
       "(-30.5, 69.5)"
      ]
     },
     "execution_count": 40,
     "metadata": {},
     "output_type": "execute_result"
    }
   ],
   "source": [
    "get_iqr_bounds(df1.income_lakhs)"
   ]
  },
  {
   "cell_type": "code",
   "execution_count": 41,
   "id": "6d31245f-e196-4bd2-b36e-9b150ee58008",
   "metadata": {},
   "outputs": [],
   "source": [
    "quatile_treshold=df1.income_lakhs.quantile(.999)"
   ]
  },
  {
   "cell_type": "code",
   "execution_count": 42,
   "id": "b28f983a-9d7c-44e5-aff2-cbabbb56303b",
   "metadata": {},
   "outputs": [
    {
     "data": {
      "text/plain": [
       "(6, 14)"
      ]
     },
     "execution_count": 42,
     "metadata": {},
     "output_type": "execute_result"
    }
   ],
   "source": [
    "df1[df1.income_lakhs>quatile_treshold].shape"
   ]
  },
  {
   "cell_type": "code",
   "execution_count": 43,
   "id": "66dd756d-9137-421a-8c0c-7ac01fdcb06e",
   "metadata": {},
   "outputs": [],
   "source": [
    "df2=df1[df1.income_lakhs<quatile_treshold]"
   ]
  },
  {
   "cell_type": "code",
   "execution_count": 44,
   "id": "6eefc5a8-f335-40a3-87dd-7cad94109785",
   "metadata": {},
   "outputs": [
    {
     "data": {
      "text/plain": [
       "(29763, 14)"
      ]
     },
     "execution_count": 44,
     "metadata": {},
     "output_type": "execute_result"
    }
   ],
   "source": [
    "df2.shape"
   ]
  },
  {
   "cell_type": "code",
   "execution_count": 45,
   "id": "44a40bc3-fcea-4b79-86e9-5bae855c5ae6",
   "metadata": {},
   "outputs": [
    {
     "data": {
      "text/html": [
       "<div>\n",
       "<style scoped>\n",
       "    .dataframe tbody tr th:only-of-type {\n",
       "        vertical-align: middle;\n",
       "    }\n",
       "\n",
       "    .dataframe tbody tr th {\n",
       "        vertical-align: top;\n",
       "    }\n",
       "\n",
       "    .dataframe thead th {\n",
       "        text-align: right;\n",
       "    }\n",
       "</style>\n",
       "<table border=\"1\" class=\"dataframe\">\n",
       "  <thead>\n",
       "    <tr style=\"text-align: right;\">\n",
       "      <th></th>\n",
       "      <th>age</th>\n",
       "      <th>number_of_dependants</th>\n",
       "      <th>income_lakhs</th>\n",
       "      <th>annual_premium_amount</th>\n",
       "      <th>genetical_risk</th>\n",
       "    </tr>\n",
       "  </thead>\n",
       "  <tbody>\n",
       "    <tr>\n",
       "      <th>count</th>\n",
       "      <td>29763.000000</td>\n",
       "      <td>29763.000000</td>\n",
       "      <td>29763.000000</td>\n",
       "      <td>29763.000000</td>\n",
       "      <td>29763.0</td>\n",
       "    </tr>\n",
       "    <tr>\n",
       "      <th>mean</th>\n",
       "      <td>43.099318</td>\n",
       "      <td>2.387931</td>\n",
       "      <td>23.053960</td>\n",
       "      <td>20893.336122</td>\n",
       "      <td>0.0</td>\n",
       "    </tr>\n",
       "    <tr>\n",
       "      <th>std</th>\n",
       "      <td>11.044729</td>\n",
       "      <td>1.420672</td>\n",
       "      <td>22.178129</td>\n",
       "      <td>6929.366828</td>\n",
       "      <td>0.0</td>\n",
       "    </tr>\n",
       "    <tr>\n",
       "      <th>min</th>\n",
       "      <td>26.000000</td>\n",
       "      <td>0.000000</td>\n",
       "      <td>1.000000</td>\n",
       "      <td>6538.000000</td>\n",
       "      <td>0.0</td>\n",
       "    </tr>\n",
       "    <tr>\n",
       "      <th>25%</th>\n",
       "      <td>34.000000</td>\n",
       "      <td>1.000000</td>\n",
       "      <td>7.000000</td>\n",
       "      <td>15699.000000</td>\n",
       "      <td>0.0</td>\n",
       "    </tr>\n",
       "    <tr>\n",
       "      <th>50%</th>\n",
       "      <td>42.000000</td>\n",
       "      <td>3.000000</td>\n",
       "      <td>17.000000</td>\n",
       "      <td>20483.000000</td>\n",
       "      <td>0.0</td>\n",
       "    </tr>\n",
       "    <tr>\n",
       "      <th>75%</th>\n",
       "      <td>52.000000</td>\n",
       "      <td>3.000000</td>\n",
       "      <td>32.000000</td>\n",
       "      <td>26356.500000</td>\n",
       "      <td>0.0</td>\n",
       "    </tr>\n",
       "    <tr>\n",
       "      <th>max</th>\n",
       "      <td>72.000000</td>\n",
       "      <td>5.000000</td>\n",
       "      <td>99.000000</td>\n",
       "      <td>43471.000000</td>\n",
       "      <td>0.0</td>\n",
       "    </tr>\n",
       "  </tbody>\n",
       "</table>\n",
       "</div>"
      ],
      "text/plain": [
       "                age  number_of_dependants  income_lakhs  \\\n",
       "count  29763.000000          29763.000000  29763.000000   \n",
       "mean      43.099318              2.387931     23.053960   \n",
       "std       11.044729              1.420672     22.178129   \n",
       "min       26.000000              0.000000      1.000000   \n",
       "25%       34.000000              1.000000      7.000000   \n",
       "50%       42.000000              3.000000     17.000000   \n",
       "75%       52.000000              3.000000     32.000000   \n",
       "max       72.000000              5.000000     99.000000   \n",
       "\n",
       "       annual_premium_amount  genetical_risk  \n",
       "count           29763.000000         29763.0  \n",
       "mean            20893.336122             0.0  \n",
       "std              6929.366828             0.0  \n",
       "min              6538.000000             0.0  \n",
       "25%             15699.000000             0.0  \n",
       "50%             20483.000000             0.0  \n",
       "75%             26356.500000             0.0  \n",
       "max             43471.000000             0.0  "
      ]
     },
     "execution_count": 45,
     "metadata": {},
     "output_type": "execute_result"
    }
   ],
   "source": [
    "df2.describe()"
   ]
  },
  {
   "cell_type": "code",
   "execution_count": 46,
   "id": "e68adc3e-59dd-4a81-b80e-c714f17ae1a1",
   "metadata": {},
   "outputs": [
    {
     "data": {
      "image/png": "[encoded data removed]",
      "text/plain": [
       "<Figure size 640x480 with 1 Axes>"
      ]
     },
     "metadata": {},
     "output_type": "display_data"
    },
    {
     "data": {
      "image/png": "[encoded data removed]",
      "text/plain": [
       "<Figure size 640x480 with 1 Axes>"
      ]
     },
     "metadata": {},
     "output_type": "display_data"
    },
    {
     "data": {
      "image/png": "[encoded data removed]",
      "text/plain": [
       "<Figure size 640x480 with 1 Axes>"
      ]
     },
     "metadata": {},
     "output_type": "display_data"
    },
    {
     "data": {
      "image/png": "[encoded data removed]",
      "text/plain": [
       "<Figure size 640x480 with 1 Axes>"
      ]
     },
     "metadata": {},
     "output_type": "display_data"
    },
    {
     "data": {
      "image/png": "[encoded data removed]",
      "text/plain": [
       "<Figure size 640x480 with 1 Axes>"
      ]
     },
     "metadata": {},
     "output_type": "display_data"
    }
   ],
   "source": [
    "for col in numeric_columns:\n",
    "    sns.histplot(df1[col],kde=True)\n",
    "    plt.show()"
   ]
  },
  {
   "cell_type": "code",
   "execution_count": 47,
   "id": "a8be6523-0431-4a7d-a98a-6e04c031d9f2",
   "metadata": {},
   "outputs": [
    {
     "data": {
      "image/png": "[encoded data removed]",
      "text/plain": [
       "<Figure size 640x480 with 1 Axes>"
      ]
     },
     "metadata": {},
     "output_type": "display_data"
    }
   ],
   "source": [
    "sns.scatterplot(df2, x='age',y='annual_premium_amount')\n",
    "plt.show()"
   ]
  },
  {
   "cell_type": "code",
   "execution_count": 48,
   "id": "70c09d58-c6b7-4c14-bae4-7e35a9163f02",
   "metadata": {},
   "outputs": [
    {
     "data": {
      "text/html": [
       "<div>\n",
       "<style scoped>\n",
       "    .dataframe tbody tr th:only-of-type {\n",
       "        vertical-align: middle;\n",
       "    }\n",
       "\n",
       "    .dataframe tbody tr th {\n",
       "        vertical-align: top;\n",
       "    }\n",
       "\n",
       "    .dataframe thead th {\n",
       "        text-align: right;\n",
       "    }\n",
       "</style>\n",
       "<table border=\"1\" class=\"dataframe\">\n",
       "  <thead>\n",
       "    <tr style=\"text-align: right;\">\n",
       "      <th></th>\n",
       "      <th>age</th>\n",
       "      <th>gender</th>\n",
       "      <th>region</th>\n",
       "      <th>marital_status</th>\n",
       "      <th>number_of_dependants</th>\n",
       "      <th>bmi_category</th>\n",
       "      <th>smoking_status</th>\n",
       "      <th>employment_status</th>\n",
       "      <th>income_level</th>\n",
       "      <th>income_lakhs</th>\n",
       "      <th>medical_history</th>\n",
       "      <th>insurance_plan</th>\n",
       "      <th>annual_premium_amount</th>\n",
       "      <th>genetical_risk</th>\n",
       "    </tr>\n",
       "  </thead>\n",
       "  <tbody>\n",
       "    <tr>\n",
       "      <th>0</th>\n",
       "      <td>26</td>\n",
       "      <td>Male</td>\n",
       "      <td>Northwest</td>\n",
       "      <td>Unmarried</td>\n",
       "      <td>0</td>\n",
       "      <td>Normal</td>\n",
       "      <td>No Smoking</td>\n",
       "      <td>Salaried</td>\n",
       "      <td>&lt;10L</td>\n",
       "      <td>6</td>\n",
       "      <td>Diabetes</td>\n",
       "      <td>Bronze</td>\n",
       "      <td>9053</td>\n",
       "      <td>0</td>\n",
       "    </tr>\n",
       "    <tr>\n",
       "      <th>1</th>\n",
       "      <td>29</td>\n",
       "      <td>Female</td>\n",
       "      <td>Southeast</td>\n",
       "      <td>Married</td>\n",
       "      <td>2</td>\n",
       "      <td>Obesity</td>\n",
       "      <td>Regular</td>\n",
       "      <td>Salaried</td>\n",
       "      <td>&lt;10L</td>\n",
       "      <td>6</td>\n",
       "      <td>Diabetes</td>\n",
       "      <td>Bronze</td>\n",
       "      <td>16339</td>\n",
       "      <td>0</td>\n",
       "    </tr>\n",
       "    <tr>\n",
       "      <th>2</th>\n",
       "      <td>49</td>\n",
       "      <td>Female</td>\n",
       "      <td>Northeast</td>\n",
       "      <td>Married</td>\n",
       "      <td>2</td>\n",
       "      <td>Normal</td>\n",
       "      <td>No Smoking</td>\n",
       "      <td>Self-Employed</td>\n",
       "      <td>10L - 25L</td>\n",
       "      <td>20</td>\n",
       "      <td>High blood pressure</td>\n",
       "      <td>Silver</td>\n",
       "      <td>18164</td>\n",
       "      <td>0</td>\n",
       "    </tr>\n",
       "    <tr>\n",
       "      <th>3</th>\n",
       "      <td>30</td>\n",
       "      <td>Female</td>\n",
       "      <td>Southeast</td>\n",
       "      <td>Married</td>\n",
       "      <td>3</td>\n",
       "      <td>Normal</td>\n",
       "      <td>No Smoking</td>\n",
       "      <td>Salaried</td>\n",
       "      <td>&gt; 40L</td>\n",
       "      <td>77</td>\n",
       "      <td>No Disease</td>\n",
       "      <td>Gold</td>\n",
       "      <td>20303</td>\n",
       "      <td>0</td>\n",
       "    </tr>\n",
       "    <tr>\n",
       "      <th>4</th>\n",
       "      <td>56</td>\n",
       "      <td>Male</td>\n",
       "      <td>Northeast</td>\n",
       "      <td>Married</td>\n",
       "      <td>3</td>\n",
       "      <td>Obesity</td>\n",
       "      <td>Occasional</td>\n",
       "      <td>Self-Employed</td>\n",
       "      <td>10L - 25L</td>\n",
       "      <td>14</td>\n",
       "      <td>Diabetes</td>\n",
       "      <td>Bronze</td>\n",
       "      <td>15610</td>\n",
       "      <td>0</td>\n",
       "    </tr>\n",
       "  </tbody>\n",
       "</table>\n",
       "</div>"
      ],
      "text/plain": [
       "   age  gender     region marital_status  number_of_dependants bmi_category  \\\n",
       "0   26    Male  Northwest      Unmarried                     0       Normal   \n",
       "1   29  Female  Southeast        Married                     2      Obesity   \n",
       "2   49  Female  Northeast        Married                     2       Normal   \n",
       "3   30  Female  Southeast        Married                     3       Normal   \n",
       "4   56    Male  Northeast        Married                     3      Obesity   \n",
       "\n",
       "  smoking_status employment_status income_level  income_lakhs  \\\n",
       "0     No Smoking          Salaried         <10L             6   \n",
       "1        Regular          Salaried         <10L             6   \n",
       "2     No Smoking     Self-Employed    10L - 25L            20   \n",
       "3     No Smoking          Salaried        > 40L            77   \n",
       "4     Occasional     Self-Employed    10L - 25L            14   \n",
       "\n",
       "       medical_history insurance_plan  annual_premium_amount  genetical_risk  \n",
       "0             Diabetes         Bronze                   9053               0  \n",
       "1             Diabetes         Bronze                  16339               0  \n",
       "2  High blood pressure         Silver                  18164               0  \n",
       "3           No Disease           Gold                  20303               0  \n",
       "4             Diabetes         Bronze                  15610               0  "
      ]
     },
     "execution_count": 48,
     "metadata": {},
     "output_type": "execute_result"
    }
   ],
   "source": [
    "df2.head()"
   ]
  },
  {
   "cell_type": "code",
   "execution_count": 49,
   "id": "b581634d-edca-409b-987e-a54bbe8ac7ae",
   "metadata": {},
   "outputs": [
    {
     "data": {
      "text/plain": [
       "age                       int64\n",
       "gender                   object\n",
       "region                   object\n",
       "marital_status           object\n",
       "number_of_dependants      int64\n",
       "bmi_category             object\n",
       "smoking_status           object\n",
       "employment_status        object\n",
       "income_level             object\n",
       "income_lakhs              int64\n",
       "medical_history          object\n",
       "insurance_plan           object\n",
       "annual_premium_amount     int64\n",
       "genetical_risk            int64\n",
       "dtype: object"
      ]
     },
     "execution_count": 49,
     "metadata": {},
     "output_type": "execute_result"
    }
   ],
   "source": [
    "df2.dtypes"
   ]
  },
  {
   "cell_type": "code",
   "execution_count": 50,
   "id": "57f0047e-e64f-4d7b-ae18-01d1781a3cb5",
   "metadata": {},
   "outputs": [],
   "source": [
    "categorical_columns=df2.select_dtypes('object')"
   ]
  },
  {
   "cell_type": "code",
   "execution_count": 51,
   "id": "3c33af53-2430-4f32-a6bc-eaf84382f6f5",
   "metadata": {},
   "outputs": [
    {
     "data": {
      "text/plain": [
       "Index(['gender', 'region', 'marital_status', 'bmi_category', 'smoking_status',\n",
       "       'employment_status', 'income_level', 'medical_history',\n",
       "       'insurance_plan'],\n",
       "      dtype='object')"
      ]
     },
     "execution_count": 51,
     "metadata": {},
     "output_type": "execute_result"
    }
   ],
   "source": [
    "categorical_columns.columns"
   ]
  },
  {
   "cell_type": "code",
   "execution_count": 52,
   "id": "4f267a47-d814-42a7-a88b-b190df8eb559",
   "metadata": {},
   "outputs": [
    {
     "name": "stdout",
     "output_type": "stream",
     "text": [
      "gender :  ['Male' 'Female']\n",
      "region :  ['Northwest' 'Southeast' 'Northeast' 'Southwest']\n",
      "marital_status :  ['Unmarried' 'Married']\n",
      "bmi_category :  ['Normal' 'Obesity' 'Overweight' 'Underweight']\n",
      "smoking_status :  ['No Smoking' 'Regular' 'Occasional' 'Does Not Smoke' 'Not Smoking'\n",
      " 'Smoking=0']\n",
      "employment_status :  ['Salaried' 'Self-Employed' 'Freelancer']\n",
      "income_level :  ['<10L' '10L - 25L' '> 40L' '25L - 40L']\n",
      "medical_history :  ['Diabetes' 'High blood pressure' 'No Disease'\n",
      " 'Diabetes & High blood pressure' 'Thyroid' 'Heart disease'\n",
      " 'High blood pressure & Heart disease' 'Diabetes & Thyroid'\n",
      " 'Diabetes & Heart disease']\n",
      "insurance_plan :  ['Bronze' 'Silver' 'Gold']\n"
     ]
    }
   ],
   "source": [
    "for col in categorical_columns:\n",
    "    print(col, \": \", df2[col].unique())"
   ]
  },
  {
   "cell_type": "code",
   "execution_count": 53,
   "id": "502a1bc9-ccfd-4531-aab8-49c930deeeee",
   "metadata": {},
   "outputs": [
    {
     "name": "stderr",
     "output_type": "stream",
     "text": [
      "/var/folders/d3/9f30r0893dl1cg6wk53v98rr0000gn/T/ipykernel_13634/2590855560.py:1: SettingWithCopyWarning: \n",
      "A value is trying to be set on a copy of a slice from a DataFrame.\n",
      "Try using .loc[row_indexer,col_indexer] = value instead\n",
      "\n",
      "See the caveats in the documentation: https://pandas.pydata.org/pandas-docs/stable/user_guide/indexing.html#returning-a-view-versus-a-copy\n",
      "  df2.smoking_status=df2['smoking_status'].replace(['Smoking=0', 'Does Not Smoke','Not Smoking'], 'No Smoking')\n"
     ]
    }
   ],
   "source": [
    "df2.smoking_status=df2['smoking_status'].replace(['Smoking=0', 'Does Not Smoke','Not Smoking'], 'No Smoking')"
   ]
  },
  {
   "cell_type": "code",
   "execution_count": 54,
   "id": "2d8f51fd-f0f6-48fc-9160-83f8439d7f5c",
   "metadata": {},
   "outputs": [
    {
     "data": {
      "text/plain": [
       "array(['No Smoking', 'Regular', 'Occasional'], dtype=object)"
      ]
     },
     "execution_count": 54,
     "metadata": {},
     "output_type": "execute_result"
    }
   ],
   "source": [
    "df2.smoking_status.unique()"
   ]
  },
  {
   "cell_type": "code",
   "execution_count": 55,
   "id": "092bb7ea-d8c9-456c-865f-8dcca4fe1444",
   "metadata": {},
   "outputs": [
    {
     "name": "stdout",
     "output_type": "stream",
     "text": [
      "gender :  ['Male' 'Female']\n",
      "region :  ['Northwest' 'Southeast' 'Northeast' 'Southwest']\n",
      "marital_status :  ['Unmarried' 'Married']\n",
      "bmi_category :  ['Normal' 'Obesity' 'Overweight' 'Underweight']\n",
      "smoking_status :  ['No Smoking' 'Regular' 'Occasional']\n",
      "employment_status :  ['Salaried' 'Self-Employed' 'Freelancer']\n",
      "income_level :  ['<10L' '10L - 25L' '> 40L' '25L - 40L']\n",
      "medical_history :  ['Diabetes' 'High blood pressure' 'No Disease'\n",
      " 'Diabetes & High blood pressure' 'Thyroid' 'Heart disease'\n",
      " 'High blood pressure & Heart disease' 'Diabetes & Thyroid'\n",
      " 'Diabetes & Heart disease']\n",
      "insurance_plan :  ['Bronze' 'Silver' 'Gold']\n"
     ]
    }
   ],
   "source": [
    "for col in categorical_columns:\n",
    "    print(col, \": \", df2[col].unique())"
   ]
  },
  {
   "cell_type": "code",
   "execution_count": 56,
   "id": "1401e892-2b7a-400d-98bc-0e95c703d266",
   "metadata": {},
   "outputs": [
    {
     "data": {
      "text/plain": [
       "gender\n",
       "Male      0.549189\n",
       "Female    0.450811\n",
       "Name: proportion, dtype: float64"
      ]
     },
     "execution_count": 56,
     "metadata": {},
     "output_type": "execute_result"
    }
   ],
   "source": [
    "pct_count=df.gender.value_counts(normalize=True)\n",
    "pct_count"
   ]
  },
  {
   "cell_type": "code",
   "execution_count": 57,
   "id": "eb30c73c-bca5-49d8-976d-a930178b08ee",
   "metadata": {},
   "outputs": [
    {
     "data": {
      "image/png": "[encoded data removed]",
      "text/plain": [
       "<Figure size 640x480 with 1 Axes>"
      ]
     },
     "metadata": {},
     "output_type": "display_data"
    }
   ],
   "source": [
    "sns.barplot(x=pct_count.index, y=pct_count.values)\n",
    "plt.show()"
   ]
  },
  {
   "cell_type": "code",
   "execution_count": 58,
   "id": "ccdcda86-d9ff-4d40-8314-920f465d5c3f",
   "metadata": {},
   "outputs": [
    {
     "data": {
      "text/html": [
       "<div>\n",
       "<style scoped>\n",
       "    .dataframe tbody tr th:only-of-type {\n",
       "        vertical-align: middle;\n",
       "    }\n",
       "\n",
       "    .dataframe tbody tr th {\n",
       "        vertical-align: top;\n",
       "    }\n",
       "\n",
       "    .dataframe thead th {\n",
       "        text-align: right;\n",
       "    }\n",
       "</style>\n",
       "<table border=\"1\" class=\"dataframe\">\n",
       "  <thead>\n",
       "    <tr style=\"text-align: right;\">\n",
       "      <th></th>\n",
       "      <th>age</th>\n",
       "      <th>gender</th>\n",
       "      <th>region</th>\n",
       "      <th>marital_status</th>\n",
       "      <th>number_of_dependants</th>\n",
       "      <th>bmi_category</th>\n",
       "      <th>smoking_status</th>\n",
       "      <th>employment_status</th>\n",
       "      <th>income_level</th>\n",
       "      <th>income_lakhs</th>\n",
       "      <th>medical_history</th>\n",
       "      <th>insurance_plan</th>\n",
       "      <th>annual_premium_amount</th>\n",
       "      <th>genetical_risk</th>\n",
       "    </tr>\n",
       "  </thead>\n",
       "  <tbody>\n",
       "    <tr>\n",
       "      <th>0</th>\n",
       "      <td>26</td>\n",
       "      <td>Male</td>\n",
       "      <td>Northwest</td>\n",
       "      <td>Unmarried</td>\n",
       "      <td>0</td>\n",
       "      <td>Normal</td>\n",
       "      <td>No Smoking</td>\n",
       "      <td>Salaried</td>\n",
       "      <td>&lt;10L</td>\n",
       "      <td>6</td>\n",
       "      <td>Diabetes</td>\n",
       "      <td>Bronze</td>\n",
       "      <td>9053</td>\n",
       "      <td>0</td>\n",
       "    </tr>\n",
       "    <tr>\n",
       "      <th>1</th>\n",
       "      <td>29</td>\n",
       "      <td>Female</td>\n",
       "      <td>Southeast</td>\n",
       "      <td>Married</td>\n",
       "      <td>2</td>\n",
       "      <td>Obesity</td>\n",
       "      <td>Regular</td>\n",
       "      <td>Salaried</td>\n",
       "      <td>&lt;10L</td>\n",
       "      <td>6</td>\n",
       "      <td>Diabetes</td>\n",
       "      <td>Bronze</td>\n",
       "      <td>16339</td>\n",
       "      <td>0</td>\n",
       "    </tr>\n",
       "    <tr>\n",
       "      <th>2</th>\n",
       "      <td>49</td>\n",
       "      <td>Female</td>\n",
       "      <td>Northeast</td>\n",
       "      <td>Married</td>\n",
       "      <td>2</td>\n",
       "      <td>Normal</td>\n",
       "      <td>No Smoking</td>\n",
       "      <td>Self-Employed</td>\n",
       "      <td>10L - 25L</td>\n",
       "      <td>20</td>\n",
       "      <td>High blood pressure</td>\n",
       "      <td>Silver</td>\n",
       "      <td>18164</td>\n",
       "      <td>0</td>\n",
       "    </tr>\n",
       "  </tbody>\n",
       "</table>\n",
       "</div>"
      ],
      "text/plain": [
       "   age  gender     region marital_status  number_of_dependants bmi_category  \\\n",
       "0   26    Male  Northwest      Unmarried                     0       Normal   \n",
       "1   29  Female  Southeast        Married                     2      Obesity   \n",
       "2   49  Female  Northeast        Married                     2       Normal   \n",
       "\n",
       "  smoking_status employment_status income_level  income_lakhs  \\\n",
       "0     No Smoking          Salaried         <10L             6   \n",
       "1        Regular          Salaried         <10L             6   \n",
       "2     No Smoking     Self-Employed    10L - 25L            20   \n",
       "\n",
       "       medical_history insurance_plan  annual_premium_amount  genetical_risk  \n",
       "0             Diabetes         Bronze                   9053               0  \n",
       "1             Diabetes         Bronze                  16339               0  \n",
       "2  High blood pressure         Silver                  18164               0  "
      ]
     },
     "execution_count": 58,
     "metadata": {},
     "output_type": "execute_result"
    }
   ],
   "source": [
    "df2.head(3)"
   ]
  },
  {
   "cell_type": "code",
   "execution_count": 59,
   "id": "356e3569-0857-40e5-ac57-0b4575d76895",
   "metadata": {},
   "outputs": [
    {
     "data": {
      "text/html": [
       "<div>\n",
       "<style scoped>\n",
       "    .dataframe tbody tr th:only-of-type {\n",
       "        vertical-align: middle;\n",
       "    }\n",
       "\n",
       "    .dataframe tbody tr th {\n",
       "        vertical-align: top;\n",
       "    }\n",
       "\n",
       "    .dataframe thead th {\n",
       "        text-align: right;\n",
       "    }\n",
       "</style>\n",
       "<table border=\"1\" class=\"dataframe\">\n",
       "  <thead>\n",
       "    <tr style=\"text-align: right;\">\n",
       "      <th>insurance_plan</th>\n",
       "      <th>Bronze</th>\n",
       "      <th>Gold</th>\n",
       "      <th>Silver</th>\n",
       "    </tr>\n",
       "    <tr>\n",
       "      <th>income_level</th>\n",
       "      <th></th>\n",
       "      <th></th>\n",
       "      <th></th>\n",
       "    </tr>\n",
       "  </thead>\n",
       "  <tbody>\n",
       "    <tr>\n",
       "      <th>10L - 25L</th>\n",
       "      <td>799</td>\n",
       "      <td>3554</td>\n",
       "      <td>4355</td>\n",
       "    </tr>\n",
       "    <tr>\n",
       "      <th>25L - 40L</th>\n",
       "      <td>301</td>\n",
       "      <td>2636</td>\n",
       "      <td>3142</td>\n",
       "    </tr>\n",
       "    <tr>\n",
       "      <th>&lt;10L</th>\n",
       "      <td>6054</td>\n",
       "      <td>527</td>\n",
       "      <td>4342</td>\n",
       "    </tr>\n",
       "    <tr>\n",
       "      <th>&gt; 40L</th>\n",
       "      <td>211</td>\n",
       "      <td>3232</td>\n",
       "      <td>610</td>\n",
       "    </tr>\n",
       "  </tbody>\n",
       "</table>\n",
       "</div>"
      ],
      "text/plain": [
       "insurance_plan  Bronze  Gold  Silver\n",
       "income_level                        \n",
       "10L - 25L          799  3554    4355\n",
       "25L - 40L          301  2636    3142\n",
       "<10L              6054   527    4342\n",
       "> 40L              211  3232     610"
      ]
     },
     "execution_count": 59,
     "metadata": {},
     "output_type": "execute_result"
    }
   ],
   "source": [
    "crosstab=pd.crosstab(df2.income_level, df2.insurance_plan)\n",
    "crosstab"
   ]
  },
  {
   "cell_type": "code",
   "execution_count": 60,
   "id": "b39575d6-02fa-4679-bc7a-228f1ee67de6",
   "metadata": {},
   "outputs": [
    {
     "data": {
      "text/plain": [
       "<Axes: xlabel='insurance_plan', ylabel='income_level'>"
      ]
     },
     "execution_count": 60,
     "metadata": {},
     "output_type": "execute_result"
    },
    {
     "data": {
      "image/png": "[encoded data removed]",
      "text/plain": [
       "<Figure size 640x480 with 2 Axes>"
      ]
     },
     "metadata": {},
     "output_type": "display_data"
    }
   ],
   "source": [
    "sns.heatmap(crosstab,annot=True,fmt='d')"
   ]
  },
  {
   "cell_type": "code",
   "execution_count": 61,
   "id": "ade4e26b-7b47-4c66-bd0a-c8bee38a4924",
   "metadata": {},
   "outputs": [
    {
     "data": {
      "image/png": "[encoded data removed]",
      "text/plain": [
       "<Figure size 640x480 with 1 Axes>"
      ]
     },
     "metadata": {},
     "output_type": "display_data"
    }
   ],
   "source": [
    "crosstab.plot(kind='bar',stacked=True)\n",
    "plt.show()"
   ]
  },
  {
   "cell_type": "code",
   "execution_count": 62,
   "id": "0a0feacf-240d-48e3-9428-3bc922e2118b",
   "metadata": {},
   "outputs": [
    {
     "data": {
      "text/html": [
       "<div>\n",
       "<style scoped>\n",
       "    .dataframe tbody tr th:only-of-type {\n",
       "        vertical-align: middle;\n",
       "    }\n",
       "\n",
       "    .dataframe tbody tr th {\n",
       "        vertical-align: top;\n",
       "    }\n",
       "\n",
       "    .dataframe thead th {\n",
       "        text-align: right;\n",
       "    }\n",
       "</style>\n",
       "<table border=\"1\" class=\"dataframe\">\n",
       "  <thead>\n",
       "    <tr style=\"text-align: right;\">\n",
       "      <th></th>\n",
       "      <th>age</th>\n",
       "      <th>gender</th>\n",
       "      <th>region</th>\n",
       "      <th>marital_status</th>\n",
       "      <th>number_of_dependants</th>\n",
       "      <th>bmi_category</th>\n",
       "      <th>smoking_status</th>\n",
       "      <th>employment_status</th>\n",
       "      <th>income_level</th>\n",
       "      <th>income_lakhs</th>\n",
       "      <th>medical_history</th>\n",
       "      <th>insurance_plan</th>\n",
       "      <th>annual_premium_amount</th>\n",
       "      <th>genetical_risk</th>\n",
       "    </tr>\n",
       "  </thead>\n",
       "  <tbody>\n",
       "    <tr>\n",
       "      <th>0</th>\n",
       "      <td>26</td>\n",
       "      <td>Male</td>\n",
       "      <td>Northwest</td>\n",
       "      <td>Unmarried</td>\n",
       "      <td>0</td>\n",
       "      <td>Normal</td>\n",
       "      <td>No Smoking</td>\n",
       "      <td>Salaried</td>\n",
       "      <td>&lt;10L</td>\n",
       "      <td>6</td>\n",
       "      <td>Diabetes</td>\n",
       "      <td>Bronze</td>\n",
       "      <td>9053</td>\n",
       "      <td>0</td>\n",
       "    </tr>\n",
       "    <tr>\n",
       "      <th>1</th>\n",
       "      <td>29</td>\n",
       "      <td>Female</td>\n",
       "      <td>Southeast</td>\n",
       "      <td>Married</td>\n",
       "      <td>2</td>\n",
       "      <td>Obesity</td>\n",
       "      <td>Regular</td>\n",
       "      <td>Salaried</td>\n",
       "      <td>&lt;10L</td>\n",
       "      <td>6</td>\n",
       "      <td>Diabetes</td>\n",
       "      <td>Bronze</td>\n",
       "      <td>16339</td>\n",
       "      <td>0</td>\n",
       "    </tr>\n",
       "    <tr>\n",
       "      <th>2</th>\n",
       "      <td>49</td>\n",
       "      <td>Female</td>\n",
       "      <td>Northeast</td>\n",
       "      <td>Married</td>\n",
       "      <td>2</td>\n",
       "      <td>Normal</td>\n",
       "      <td>No Smoking</td>\n",
       "      <td>Self-Employed</td>\n",
       "      <td>10L - 25L</td>\n",
       "      <td>20</td>\n",
       "      <td>High blood pressure</td>\n",
       "      <td>Silver</td>\n",
       "      <td>18164</td>\n",
       "      <td>0</td>\n",
       "    </tr>\n",
       "  </tbody>\n",
       "</table>\n",
       "</div>"
      ],
      "text/plain": [
       "   age  gender     region marital_status  number_of_dependants bmi_category  \\\n",
       "0   26    Male  Northwest      Unmarried                     0       Normal   \n",
       "1   29  Female  Southeast        Married                     2      Obesity   \n",
       "2   49  Female  Northeast        Married                     2       Normal   \n",
       "\n",
       "  smoking_status employment_status income_level  income_lakhs  \\\n",
       "0     No Smoking          Salaried         <10L             6   \n",
       "1        Regular          Salaried         <10L             6   \n",
       "2     No Smoking     Self-Employed    10L - 25L            20   \n",
       "\n",
       "       medical_history insurance_plan  annual_premium_amount  genetical_risk  \n",
       "0             Diabetes         Bronze                   9053               0  \n",
       "1             Diabetes         Bronze                  16339               0  \n",
       "2  High blood pressure         Silver                  18164               0  "
      ]
     },
     "execution_count": 62,
     "metadata": {},
     "output_type": "execute_result"
    }
   ],
   "source": [
    "df2.head(3)"
   ]
  },
  {
   "cell_type": "code",
   "execution_count": 63,
   "id": "98fa0f86-cf9b-4f86-ad13-d4600cf178bf",
   "metadata": {},
   "outputs": [
    {
     "data": {
      "text/plain": [
       "array(['Diabetes', 'High blood pressure', 'No Disease',\n",
       "       'Diabetes & High blood pressure', 'Thyroid', 'Heart disease',\n",
       "       'High blood pressure & Heart disease', 'Diabetes & Thyroid',\n",
       "       'Diabetes & Heart disease'], dtype=object)"
      ]
     },
     "execution_count": 63,
     "metadata": {},
     "output_type": "execute_result"
    }
   ],
   "source": [
    "df2['medical_history'].unique()"
   ]
  },
  {
   "cell_type": "code",
   "execution_count": 64,
   "id": "69dc0691-54b3-4038-80d5-c75c2456145d",
   "metadata": {},
   "outputs": [
    {
     "name": "stderr",
     "output_type": "stream",
     "text": [
      "/var/folders/d3/9f30r0893dl1cg6wk53v98rr0000gn/T/ipykernel_13634/4265722347.py:1: SettingWithCopyWarning: \n",
      "A value is trying to be set on a copy of a slice from a DataFrame.\n",
      "Try using .loc[row_indexer,col_indexer] = value instead\n",
      "\n",
      "See the caveats in the documentation: https://pandas.pydata.org/pandas-docs/stable/user_guide/indexing.html#returning-a-view-versus-a-copy\n",
      "  df2[['disease1', 'disease2']] = df2['medical_history'].str.split(\" & \", expand=True).apply(lambda x:x.str.lower())\n",
      "/var/folders/d3/9f30r0893dl1cg6wk53v98rr0000gn/T/ipykernel_13634/4265722347.py:1: SettingWithCopyWarning: \n",
      "A value is trying to be set on a copy of a slice from a DataFrame.\n",
      "Try using .loc[row_indexer,col_indexer] = value instead\n",
      "\n",
      "See the caveats in the documentation: https://pandas.pydata.org/pandas-docs/stable/user_guide/indexing.html#returning-a-view-versus-a-copy\n",
      "  df2[['disease1', 'disease2']] = df2['medical_history'].str.split(\" & \", expand=True).apply(lambda x:x.str.lower())\n"
     ]
    }
   ],
   "source": [
    "df2[['disease1', 'disease2']] = df2['medical_history'].str.split(\" & \", expand=True).apply(lambda x:x.str.lower())"
   ]
  },
  {
   "cell_type": "code",
   "execution_count": 65,
   "id": "6d3988b5-9ee5-4903-ae05-181223458d26",
   "metadata": {},
   "outputs": [
    {
     "data": {
      "text/html": [
       "<div>\n",
       "<style scoped>\n",
       "    .dataframe tbody tr th:only-of-type {\n",
       "        vertical-align: middle;\n",
       "    }\n",
       "\n",
       "    .dataframe tbody tr th {\n",
       "        vertical-align: top;\n",
       "    }\n",
       "\n",
       "    .dataframe thead th {\n",
       "        text-align: right;\n",
       "    }\n",
       "</style>\n",
       "<table border=\"1\" class=\"dataframe\">\n",
       "  <thead>\n",
       "    <tr style=\"text-align: right;\">\n",
       "      <th></th>\n",
       "      <th>age</th>\n",
       "      <th>gender</th>\n",
       "      <th>region</th>\n",
       "      <th>marital_status</th>\n",
       "      <th>number_of_dependants</th>\n",
       "      <th>bmi_category</th>\n",
       "      <th>smoking_status</th>\n",
       "      <th>employment_status</th>\n",
       "      <th>income_level</th>\n",
       "      <th>income_lakhs</th>\n",
       "      <th>medical_history</th>\n",
       "      <th>insurance_plan</th>\n",
       "      <th>annual_premium_amount</th>\n",
       "      <th>genetical_risk</th>\n",
       "      <th>disease1</th>\n",
       "      <th>disease2</th>\n",
       "    </tr>\n",
       "  </thead>\n",
       "  <tbody>\n",
       "    <tr>\n",
       "      <th>0</th>\n",
       "      <td>26</td>\n",
       "      <td>Male</td>\n",
       "      <td>Northwest</td>\n",
       "      <td>Unmarried</td>\n",
       "      <td>0</td>\n",
       "      <td>Normal</td>\n",
       "      <td>No Smoking</td>\n",
       "      <td>Salaried</td>\n",
       "      <td>&lt;10L</td>\n",
       "      <td>6</td>\n",
       "      <td>Diabetes</td>\n",
       "      <td>Bronze</td>\n",
       "      <td>9053</td>\n",
       "      <td>0</td>\n",
       "      <td>diabetes</td>\n",
       "      <td>None</td>\n",
       "    </tr>\n",
       "    <tr>\n",
       "      <th>1</th>\n",
       "      <td>29</td>\n",
       "      <td>Female</td>\n",
       "      <td>Southeast</td>\n",
       "      <td>Married</td>\n",
       "      <td>2</td>\n",
       "      <td>Obesity</td>\n",
       "      <td>Regular</td>\n",
       "      <td>Salaried</td>\n",
       "      <td>&lt;10L</td>\n",
       "      <td>6</td>\n",
       "      <td>Diabetes</td>\n",
       "      <td>Bronze</td>\n",
       "      <td>16339</td>\n",
       "      <td>0</td>\n",
       "      <td>diabetes</td>\n",
       "      <td>None</td>\n",
       "    </tr>\n",
       "    <tr>\n",
       "      <th>2</th>\n",
       "      <td>49</td>\n",
       "      <td>Female</td>\n",
       "      <td>Northeast</td>\n",
       "      <td>Married</td>\n",
       "      <td>2</td>\n",
       "      <td>Normal</td>\n",
       "      <td>No Smoking</td>\n",
       "      <td>Self-Employed</td>\n",
       "      <td>10L - 25L</td>\n",
       "      <td>20</td>\n",
       "      <td>High blood pressure</td>\n",
       "      <td>Silver</td>\n",
       "      <td>18164</td>\n",
       "      <td>0</td>\n",
       "      <td>high blood pressure</td>\n",
       "      <td>None</td>\n",
       "    </tr>\n",
       "  </tbody>\n",
       "</table>\n",
       "</div>"
      ],
      "text/plain": [
       "   age  gender     region marital_status  number_of_dependants bmi_category  \\\n",
       "0   26    Male  Northwest      Unmarried                     0       Normal   \n",
       "1   29  Female  Southeast        Married                     2      Obesity   \n",
       "2   49  Female  Northeast        Married                     2       Normal   \n",
       "\n",
       "  smoking_status employment_status income_level  income_lakhs  \\\n",
       "0     No Smoking          Salaried         <10L             6   \n",
       "1        Regular          Salaried         <10L             6   \n",
       "2     No Smoking     Self-Employed    10L - 25L            20   \n",
       "\n",
       "       medical_history insurance_plan  annual_premium_amount  genetical_risk  \\\n",
       "0             Diabetes         Bronze                   9053               0   \n",
       "1             Diabetes         Bronze                  16339               0   \n",
       "2  High blood pressure         Silver                  18164               0   \n",
       "\n",
       "              disease1 disease2  \n",
       "0             diabetes     None  \n",
       "1             diabetes     None  \n",
       "2  high blood pressure     None  "
      ]
     },
     "execution_count": 65,
     "metadata": {},
     "output_type": "execute_result"
    }
   ],
   "source": [
    "df2.head(3)"
   ]
  },
  {
   "cell_type": "code",
   "execution_count": 66,
   "id": "9db59af0-383f-4764-9908-6b7f9179685a",
   "metadata": {},
   "outputs": [],
   "source": [
    "risk_score={\n",
    "    'diabetes':6,\n",
    "    'heart disease':8,\n",
    "    'high blood pressure':6,\n",
    "    'thyroid':5,\n",
    "    'no disese':0,\n",
    "    'none':0\n",
    "}\n"
   ]
  },
  {
   "cell_type": "code",
   "execution_count": 67,
   "id": "bf4e171e-a4ed-4c82-bdd3-3f9a468a2b7e",
   "metadata": {},
   "outputs": [
    {
     "name": "stderr",
     "output_type": "stream",
     "text": [
      "/var/folders/d3/9f30r0893dl1cg6wk53v98rr0000gn/T/ipykernel_13634/1522888226.py:1: FutureWarning: A value is trying to be set on a copy of a DataFrame or Series through chained assignment using an inplace method.\n",
      "The behavior will change in pandas 3.0. This inplace method will never work because the intermediate object on which we are setting values always behaves as a copy.\n",
      "\n",
      "For example, when doing 'df[col].method(value, inplace=True)', try using 'df.method({col: value}, inplace=True)' or df[col] = df[col].method(value) instead, to perform the operation inplace on the original object.\n",
      "\n",
      "\n",
      "  df2.disease1.fillna('none',inplace=True)\n",
      "/var/folders/d3/9f30r0893dl1cg6wk53v98rr0000gn/T/ipykernel_13634/1522888226.py:1: SettingWithCopyWarning: \n",
      "A value is trying to be set on a copy of a slice from a DataFrame\n",
      "\n",
      "See the caveats in the documentation: https://pandas.pydata.org/pandas-docs/stable/user_guide/indexing.html#returning-a-view-versus-a-copy\n",
      "  df2.disease1.fillna('none',inplace=True)\n",
      "/var/folders/d3/9f30r0893dl1cg6wk53v98rr0000gn/T/ipykernel_13634/1522888226.py:2: FutureWarning: A value is trying to be set on a copy of a DataFrame or Series through chained assignment using an inplace method.\n",
      "The behavior will change in pandas 3.0. This inplace method will never work because the intermediate object on which we are setting values always behaves as a copy.\n",
      "\n",
      "For example, when doing 'df[col].method(value, inplace=True)', try using 'df.method({col: value}, inplace=True)' or df[col] = df[col].method(value) instead, to perform the operation inplace on the original object.\n",
      "\n",
      "\n",
      "  df2.disease2.fillna('none',inplace=True)\n",
      "/var/folders/d3/9f30r0893dl1cg6wk53v98rr0000gn/T/ipykernel_13634/1522888226.py:2: SettingWithCopyWarning: \n",
      "A value is trying to be set on a copy of a slice from a DataFrame\n",
      "\n",
      "See the caveats in the documentation: https://pandas.pydata.org/pandas-docs/stable/user_guide/indexing.html#returning-a-view-versus-a-copy\n",
      "  df2.disease2.fillna('none',inplace=True)\n"
     ]
    }
   ],
   "source": [
    "df2.disease1.fillna('none',inplace=True)\n",
    "df2.disease2.fillna('none',inplace=True)"
   ]
  },
  {
   "cell_type": "code",
   "execution_count": 68,
   "id": "2f47ae4b-d53f-4191-8626-84cb9f8a16e0",
   "metadata": {},
   "outputs": [
    {
     "data": {
      "text/plain": [
       "array(['none', 'high blood pressure', 'heart disease', 'thyroid'],\n",
       "      dtype=object)"
      ]
     },
     "execution_count": 68,
     "metadata": {},
     "output_type": "execute_result"
    }
   ],
   "source": [
    "df2.disease2.unique()"
   ]
  },
  {
   "cell_type": "code",
   "execution_count": 69,
   "id": "688ae53d-fca3-46b1-b3b2-e1cd03d1e0d7",
   "metadata": {},
   "outputs": [
    {
     "name": "stderr",
     "output_type": "stream",
     "text": [
      "/var/folders/d3/9f30r0893dl1cg6wk53v98rr0000gn/T/ipykernel_13634/1925737481.py:1: SettingWithCopyWarning: \n",
      "A value is trying to be set on a copy of a slice from a DataFrame.\n",
      "Try using .loc[row_indexer,col_indexer] = value instead\n",
      "\n",
      "See the caveats in the documentation: https://pandas.pydata.org/pandas-docs/stable/user_guide/indexing.html#returning-a-view-versus-a-copy\n",
      "  df2['total_risk_score']=0\n",
      "/var/folders/d3/9f30r0893dl1cg6wk53v98rr0000gn/T/ipykernel_13634/1925737481.py:3: SettingWithCopyWarning: \n",
      "A value is trying to be set on a copy of a slice from a DataFrame.\n",
      "Try using .loc[row_indexer,col_indexer] = value instead\n",
      "\n",
      "See the caveats in the documentation: https://pandas.pydata.org/pandas-docs/stable/user_guide/indexing.html#returning-a-view-versus-a-copy\n",
      "  df2['total_risk_score']+=df2[disease].map(risk_score)\n",
      "/var/folders/d3/9f30r0893dl1cg6wk53v98rr0000gn/T/ipykernel_13634/1925737481.py:3: SettingWithCopyWarning: \n",
      "A value is trying to be set on a copy of a slice from a DataFrame.\n",
      "Try using .loc[row_indexer,col_indexer] = value instead\n",
      "\n",
      "See the caveats in the documentation: https://pandas.pydata.org/pandas-docs/stable/user_guide/indexing.html#returning-a-view-versus-a-copy\n",
      "  df2['total_risk_score']+=df2[disease].map(risk_score)\n"
     ]
    }
   ],
   "source": [
    "df2['total_risk_score']=0\n",
    "for disease in ['disease1','disease2']:\n",
    "    df2['total_risk_score']+=df2[disease].map(risk_score)\n",
    "   "
   ]
  },
  {
   "cell_type": "code",
   "execution_count": 70,
   "id": "ccdee7bf-00bc-45c3-8969-c976d49333fb",
   "metadata": {},
   "outputs": [
    {
     "name": "stderr",
     "output_type": "stream",
     "text": [
      "/var/folders/d3/9f30r0893dl1cg6wk53v98rr0000gn/T/ipykernel_13634/3873623025.py:1: FutureWarning: A value is trying to be set on a copy of a DataFrame or Series through chained assignment using an inplace method.\n",
      "The behavior will change in pandas 3.0. This inplace method will never work because the intermediate object on which we are setting values always behaves as a copy.\n",
      "\n",
      "For example, when doing 'df[col].method(value, inplace=True)', try using 'df.method({col: value}, inplace=True)' or df[col] = df[col].method(value) instead, to perform the operation inplace on the original object.\n",
      "\n",
      "\n",
      "  df2['total_risk_score'].fillna(0,inplace=True)\n",
      "/var/folders/d3/9f30r0893dl1cg6wk53v98rr0000gn/T/ipykernel_13634/3873623025.py:1: SettingWithCopyWarning: \n",
      "A value is trying to be set on a copy of a slice from a DataFrame\n",
      "\n",
      "See the caveats in the documentation: https://pandas.pydata.org/pandas-docs/stable/user_guide/indexing.html#returning-a-view-versus-a-copy\n",
      "  df2['total_risk_score'].fillna(0,inplace=True)\n"
     ]
    },
    {
     "data": {
      "text/html": [
       "<div>\n",
       "<style scoped>\n",
       "    .dataframe tbody tr th:only-of-type {\n",
       "        vertical-align: middle;\n",
       "    }\n",
       "\n",
       "    .dataframe tbody tr th {\n",
       "        vertical-align: top;\n",
       "    }\n",
       "\n",
       "    .dataframe thead th {\n",
       "        text-align: right;\n",
       "    }\n",
       "</style>\n",
       "<table border=\"1\" class=\"dataframe\">\n",
       "  <thead>\n",
       "    <tr style=\"text-align: right;\">\n",
       "      <th></th>\n",
       "      <th>age</th>\n",
       "      <th>gender</th>\n",
       "      <th>region</th>\n",
       "      <th>marital_status</th>\n",
       "      <th>number_of_dependants</th>\n",
       "      <th>bmi_category</th>\n",
       "      <th>smoking_status</th>\n",
       "      <th>employment_status</th>\n",
       "      <th>income_level</th>\n",
       "      <th>income_lakhs</th>\n",
       "      <th>medical_history</th>\n",
       "      <th>insurance_plan</th>\n",
       "      <th>annual_premium_amount</th>\n",
       "      <th>genetical_risk</th>\n",
       "      <th>disease1</th>\n",
       "      <th>disease2</th>\n",
       "      <th>total_risk_score</th>\n",
       "    </tr>\n",
       "  </thead>\n",
       "  <tbody>\n",
       "    <tr>\n",
       "      <th>0</th>\n",
       "      <td>26</td>\n",
       "      <td>Male</td>\n",
       "      <td>Northwest</td>\n",
       "      <td>Unmarried</td>\n",
       "      <td>0</td>\n",
       "      <td>Normal</td>\n",
       "      <td>No Smoking</td>\n",
       "      <td>Salaried</td>\n",
       "      <td>&lt;10L</td>\n",
       "      <td>6</td>\n",
       "      <td>Diabetes</td>\n",
       "      <td>Bronze</td>\n",
       "      <td>9053</td>\n",
       "      <td>0</td>\n",
       "      <td>diabetes</td>\n",
       "      <td>none</td>\n",
       "      <td>6.0</td>\n",
       "    </tr>\n",
       "    <tr>\n",
       "      <th>1</th>\n",
       "      <td>29</td>\n",
       "      <td>Female</td>\n",
       "      <td>Southeast</td>\n",
       "      <td>Married</td>\n",
       "      <td>2</td>\n",
       "      <td>Obesity</td>\n",
       "      <td>Regular</td>\n",
       "      <td>Salaried</td>\n",
       "      <td>&lt;10L</td>\n",
       "      <td>6</td>\n",
       "      <td>Diabetes</td>\n",
       "      <td>Bronze</td>\n",
       "      <td>16339</td>\n",
       "      <td>0</td>\n",
       "      <td>diabetes</td>\n",
       "      <td>none</td>\n",
       "      <td>6.0</td>\n",
       "    </tr>\n",
       "    <tr>\n",
       "      <th>2</th>\n",
       "      <td>49</td>\n",
       "      <td>Female</td>\n",
       "      <td>Northeast</td>\n",
       "      <td>Married</td>\n",
       "      <td>2</td>\n",
       "      <td>Normal</td>\n",
       "      <td>No Smoking</td>\n",
       "      <td>Self-Employed</td>\n",
       "      <td>10L - 25L</td>\n",
       "      <td>20</td>\n",
       "      <td>High blood pressure</td>\n",
       "      <td>Silver</td>\n",
       "      <td>18164</td>\n",
       "      <td>0</td>\n",
       "      <td>high blood pressure</td>\n",
       "      <td>none</td>\n",
       "      <td>6.0</td>\n",
       "    </tr>\n",
       "    <tr>\n",
       "      <th>3</th>\n",
       "      <td>30</td>\n",
       "      <td>Female</td>\n",
       "      <td>Southeast</td>\n",
       "      <td>Married</td>\n",
       "      <td>3</td>\n",
       "      <td>Normal</td>\n",
       "      <td>No Smoking</td>\n",
       "      <td>Salaried</td>\n",
       "      <td>&gt; 40L</td>\n",
       "      <td>77</td>\n",
       "      <td>No Disease</td>\n",
       "      <td>Gold</td>\n",
       "      <td>20303</td>\n",
       "      <td>0</td>\n",
       "      <td>no disease</td>\n",
       "      <td>none</td>\n",
       "      <td>0.0</td>\n",
       "    </tr>\n",
       "    <tr>\n",
       "      <th>4</th>\n",
       "      <td>56</td>\n",
       "      <td>Male</td>\n",
       "      <td>Northeast</td>\n",
       "      <td>Married</td>\n",
       "      <td>3</td>\n",
       "      <td>Obesity</td>\n",
       "      <td>Occasional</td>\n",
       "      <td>Self-Employed</td>\n",
       "      <td>10L - 25L</td>\n",
       "      <td>14</td>\n",
       "      <td>Diabetes</td>\n",
       "      <td>Bronze</td>\n",
       "      <td>15610</td>\n",
       "      <td>0</td>\n",
       "      <td>diabetes</td>\n",
       "      <td>none</td>\n",
       "      <td>6.0</td>\n",
       "    </tr>\n",
       "    <tr>\n",
       "      <th>5</th>\n",
       "      <td>33</td>\n",
       "      <td>Male</td>\n",
       "      <td>Southeast</td>\n",
       "      <td>Married</td>\n",
       "      <td>3</td>\n",
       "      <td>Normal</td>\n",
       "      <td>Regular</td>\n",
       "      <td>Self-Employed</td>\n",
       "      <td>&lt;10L</td>\n",
       "      <td>4</td>\n",
       "      <td>Diabetes &amp; High blood pressure</td>\n",
       "      <td>Silver</td>\n",
       "      <td>20653</td>\n",
       "      <td>0</td>\n",
       "      <td>diabetes</td>\n",
       "      <td>high blood pressure</td>\n",
       "      <td>12.0</td>\n",
       "    </tr>\n",
       "    <tr>\n",
       "      <th>6</th>\n",
       "      <td>43</td>\n",
       "      <td>Male</td>\n",
       "      <td>Northeast</td>\n",
       "      <td>Married</td>\n",
       "      <td>3</td>\n",
       "      <td>Overweight</td>\n",
       "      <td>Regular</td>\n",
       "      <td>Salaried</td>\n",
       "      <td>&gt; 40L</td>\n",
       "      <td>46</td>\n",
       "      <td>Thyroid</td>\n",
       "      <td>Gold</td>\n",
       "      <td>26926</td>\n",
       "      <td>0</td>\n",
       "      <td>thyroid</td>\n",
       "      <td>none</td>\n",
       "      <td>5.0</td>\n",
       "    </tr>\n",
       "    <tr>\n",
       "      <th>7</th>\n",
       "      <td>59</td>\n",
       "      <td>Female</td>\n",
       "      <td>Southeast</td>\n",
       "      <td>Unmarried</td>\n",
       "      <td>0</td>\n",
       "      <td>Overweight</td>\n",
       "      <td>No Smoking</td>\n",
       "      <td>Freelancer</td>\n",
       "      <td>10L - 25L</td>\n",
       "      <td>21</td>\n",
       "      <td>No Disease</td>\n",
       "      <td>Gold</td>\n",
       "      <td>26101</td>\n",
       "      <td>0</td>\n",
       "      <td>no disease</td>\n",
       "      <td>none</td>\n",
       "      <td>0.0</td>\n",
       "    </tr>\n",
       "    <tr>\n",
       "      <th>8</th>\n",
       "      <td>46</td>\n",
       "      <td>Female</td>\n",
       "      <td>Southeast</td>\n",
       "      <td>Married</td>\n",
       "      <td>4</td>\n",
       "      <td>Normal</td>\n",
       "      <td>Occasional</td>\n",
       "      <td>Self-Employed</td>\n",
       "      <td>10L - 25L</td>\n",
       "      <td>21</td>\n",
       "      <td>Thyroid</td>\n",
       "      <td>Gold</td>\n",
       "      <td>27176</td>\n",
       "      <td>0</td>\n",
       "      <td>thyroid</td>\n",
       "      <td>none</td>\n",
       "      <td>5.0</td>\n",
       "    </tr>\n",
       "    <tr>\n",
       "      <th>9</th>\n",
       "      <td>68</td>\n",
       "      <td>Female</td>\n",
       "      <td>Southwest</td>\n",
       "      <td>Married</td>\n",
       "      <td>1</td>\n",
       "      <td>Normal</td>\n",
       "      <td>No Smoking</td>\n",
       "      <td>Self-Employed</td>\n",
       "      <td>&lt;10L</td>\n",
       "      <td>1</td>\n",
       "      <td>Diabetes</td>\n",
       "      <td>Bronze</td>\n",
       "      <td>12596</td>\n",
       "      <td>0</td>\n",
       "      <td>diabetes</td>\n",
       "      <td>none</td>\n",
       "      <td>6.0</td>\n",
       "    </tr>\n",
       "  </tbody>\n",
       "</table>\n",
       "</div>"
      ],
      "text/plain": [
       "   age  gender     region marital_status  number_of_dependants bmi_category  \\\n",
       "0   26    Male  Northwest      Unmarried                     0       Normal   \n",
       "1   29  Female  Southeast        Married                     2      Obesity   \n",
       "2   49  Female  Northeast        Married                     2       Normal   \n",
       "3   30  Female  Southeast        Married                     3       Normal   \n",
       "4   56    Male  Northeast        Married                     3      Obesity   \n",
       "5   33    Male  Southeast        Married                     3       Normal   \n",
       "6   43    Male  Northeast        Married                     3   Overweight   \n",
       "7   59  Female  Southeast      Unmarried                     0   Overweight   \n",
       "8   46  Female  Southeast        Married                     4       Normal   \n",
       "9   68  Female  Southwest        Married                     1       Normal   \n",
       "\n",
       "  smoking_status employment_status income_level  income_lakhs  \\\n",
       "0     No Smoking          Salaried         <10L             6   \n",
       "1        Regular          Salaried         <10L             6   \n",
       "2     No Smoking     Self-Employed    10L - 25L            20   \n",
       "3     No Smoking          Salaried        > 40L            77   \n",
       "4     Occasional     Self-Employed    10L - 25L            14   \n",
       "5        Regular     Self-Employed         <10L             4   \n",
       "6        Regular          Salaried        > 40L            46   \n",
       "7     No Smoking        Freelancer    10L - 25L            21   \n",
       "8     Occasional     Self-Employed    10L - 25L            21   \n",
       "9     No Smoking     Self-Employed         <10L             1   \n",
       "\n",
       "                  medical_history insurance_plan  annual_premium_amount  \\\n",
       "0                        Diabetes         Bronze                   9053   \n",
       "1                        Diabetes         Bronze                  16339   \n",
       "2             High blood pressure         Silver                  18164   \n",
       "3                      No Disease           Gold                  20303   \n",
       "4                        Diabetes         Bronze                  15610   \n",
       "5  Diabetes & High blood pressure         Silver                  20653   \n",
       "6                         Thyroid           Gold                  26926   \n",
       "7                      No Disease           Gold                  26101   \n",
       "8                         Thyroid           Gold                  27176   \n",
       "9                        Diabetes         Bronze                  12596   \n",
       "\n",
       "   genetical_risk             disease1             disease2  total_risk_score  \n",
       "0               0             diabetes                 none               6.0  \n",
       "1               0             diabetes                 none               6.0  \n",
       "2               0  high blood pressure                 none               6.0  \n",
       "3               0           no disease                 none               0.0  \n",
       "4               0             diabetes                 none               6.0  \n",
       "5               0             diabetes  high blood pressure              12.0  \n",
       "6               0              thyroid                 none               5.0  \n",
       "7               0           no disease                 none               0.0  \n",
       "8               0              thyroid                 none               5.0  \n",
       "9               0             diabetes                 none               6.0  "
      ]
     },
     "execution_count": 70,
     "metadata": {},
     "output_type": "execute_result"
    }
   ],
   "source": [
    "df2['total_risk_score'].fillna(0,inplace=True)\n",
    "df2.head(10)"
   ]
  },
  {
   "cell_type": "code",
   "execution_count": 71,
   "id": "43367a30-3ce3-4960-8864-315e7b559f04",
   "metadata": {},
   "outputs": [
    {
     "name": "stdout",
     "output_type": "stream",
     "text": [
      "gender  : ['Male' 'Female']\n",
      "region  : ['Northwest' 'Southeast' 'Northeast' 'Southwest']\n",
      "marital_status  : ['Unmarried' 'Married']\n",
      "bmi_category  : ['Normal' 'Obesity' 'Overweight' 'Underweight']\n",
      "smoking_status  : ['No Smoking' 'Regular' 'Occasional']\n",
      "employment_status  : ['Salaried' 'Self-Employed' 'Freelancer']\n",
      "income_level  : ['<10L' '10L - 25L' '> 40L' '25L - 40L']\n",
      "medical_history  : ['Diabetes' 'High blood pressure' 'No Disease'\n",
      " 'Diabetes & High blood pressure' 'Thyroid' 'Heart disease'\n",
      " 'High blood pressure & Heart disease' 'Diabetes & Thyroid'\n",
      " 'Diabetes & Heart disease']\n",
      "insurance_plan  : ['Bronze' 'Silver' 'Gold']\n"
     ]
    }
   ],
   "source": [
    "for col in categorical_columns:\n",
    "    print(col,' :',df2[col].unique())"
   ]
  },
  {
   "cell_type": "code",
   "execution_count": 72,
   "id": "82c675d0-5785-402b-9f8c-98fb6e47a9b2",
   "metadata": {},
   "outputs": [],
   "source": [
    "from sklearn.compose import ColumnTransformer\n",
    "from sklearn.preprocessing import OneHotEncoder, LabelEncoder, MinMaxScaler, OrdinalEncoder"
   ]
  },
  {
   "cell_type": "code",
   "execution_count": 73,
   "id": "2eec4f4d-5c3f-48f1-b11d-28912bb4e22f",
   "metadata": {},
   "outputs": [
    {
     "data": {
      "text/plain": [
       "(29763, 17)"
      ]
     },
     "execution_count": 73,
     "metadata": {},
     "output_type": "execute_result"
    }
   ],
   "source": [
    "df2.shape"
   ]
  },
  {
   "cell_type": "code",
   "execution_count": 74,
   "id": "9afee5bc-bab0-42e7-9fff-592920d0fbaa",
   "metadata": {},
   "outputs": [
    {
     "data": {
      "text/html": [
       "<div>\n",
       "<style scoped>\n",
       "    .dataframe tbody tr th:only-of-type {\n",
       "        vertical-align: middle;\n",
       "    }\n",
       "\n",
       "    .dataframe tbody tr th {\n",
       "        vertical-align: top;\n",
       "    }\n",
       "\n",
       "    .dataframe thead th {\n",
       "        text-align: right;\n",
       "    }\n",
       "</style>\n",
       "<table border=\"1\" class=\"dataframe\">\n",
       "  <thead>\n",
       "    <tr style=\"text-align: right;\">\n",
       "      <th></th>\n",
       "      <th>age</th>\n",
       "      <th>gender</th>\n",
       "      <th>region</th>\n",
       "      <th>marital_status</th>\n",
       "      <th>number_of_dependants</th>\n",
       "      <th>bmi_category</th>\n",
       "      <th>smoking_status</th>\n",
       "      <th>employment_status</th>\n",
       "      <th>income_level</th>\n",
       "      <th>income_lakhs</th>\n",
       "      <th>medical_history</th>\n",
       "      <th>insurance_plan</th>\n",
       "      <th>annual_premium_amount</th>\n",
       "      <th>genetical_risk</th>\n",
       "      <th>disease1</th>\n",
       "      <th>disease2</th>\n",
       "      <th>total_risk_score</th>\n",
       "    </tr>\n",
       "  </thead>\n",
       "  <tbody>\n",
       "    <tr>\n",
       "      <th>0</th>\n",
       "      <td>26</td>\n",
       "      <td>Male</td>\n",
       "      <td>Northwest</td>\n",
       "      <td>Unmarried</td>\n",
       "      <td>0</td>\n",
       "      <td>Normal</td>\n",
       "      <td>No Smoking</td>\n",
       "      <td>Salaried</td>\n",
       "      <td>&lt;10L</td>\n",
       "      <td>6</td>\n",
       "      <td>Diabetes</td>\n",
       "      <td>Bronze</td>\n",
       "      <td>9053</td>\n",
       "      <td>0</td>\n",
       "      <td>diabetes</td>\n",
       "      <td>none</td>\n",
       "      <td>6.0</td>\n",
       "    </tr>\n",
       "    <tr>\n",
       "      <th>1</th>\n",
       "      <td>29</td>\n",
       "      <td>Female</td>\n",
       "      <td>Southeast</td>\n",
       "      <td>Married</td>\n",
       "      <td>2</td>\n",
       "      <td>Obesity</td>\n",
       "      <td>Regular</td>\n",
       "      <td>Salaried</td>\n",
       "      <td>&lt;10L</td>\n",
       "      <td>6</td>\n",
       "      <td>Diabetes</td>\n",
       "      <td>Bronze</td>\n",
       "      <td>16339</td>\n",
       "      <td>0</td>\n",
       "      <td>diabetes</td>\n",
       "      <td>none</td>\n",
       "      <td>6.0</td>\n",
       "    </tr>\n",
       "  </tbody>\n",
       "</table>\n",
       "</div>"
      ],
      "text/plain": [
       "   age  gender     region marital_status  number_of_dependants bmi_category  \\\n",
       "0   26    Male  Northwest      Unmarried                     0       Normal   \n",
       "1   29  Female  Southeast        Married                     2      Obesity   \n",
       "\n",
       "  smoking_status employment_status income_level  income_lakhs medical_history  \\\n",
       "0     No Smoking          Salaried         <10L             6        Diabetes   \n",
       "1        Regular          Salaried         <10L             6        Diabetes   \n",
       "\n",
       "  insurance_plan  annual_premium_amount  genetical_risk  disease1 disease2  \\\n",
       "0         Bronze                   9053               0  diabetes     none   \n",
       "1         Bronze                  16339               0  diabetes     none   \n",
       "\n",
       "   total_risk_score  \n",
       "0               6.0  \n",
       "1               6.0  "
      ]
     },
     "execution_count": 74,
     "metadata": {},
     "output_type": "execute_result"
    }
   ],
   "source": [
    "df2.head(2)"
   ]
  },
  {
   "cell_type": "code",
   "execution_count": 75,
   "id": "6c56b523-6f41-4976-896b-60513fe1ffb9",
   "metadata": {},
   "outputs": [
    {
     "data": {
      "text/plain": [
       "(29763, 14)"
      ]
     },
     "execution_count": 75,
     "metadata": {},
     "output_type": "execute_result"
    }
   ],
   "source": [
    "df_ = df2.drop(columns=['medical_history','disease1','disease2'])\n",
    "df_.head(10)\n",
    "df_.shape"
   ]
  },
  {
   "cell_type": "code",
   "execution_count": 76,
   "id": "098e51bb-ab4c-41d6-a313-a2d2c3e2276e",
   "metadata": {},
   "outputs": [
    {
     "data": {
      "text/html": [
       "<div>\n",
       "<style scoped>\n",
       "    .dataframe tbody tr th:only-of-type {\n",
       "        vertical-align: middle;\n",
       "    }\n",
       "\n",
       "    .dataframe tbody tr th {\n",
       "        vertical-align: top;\n",
       "    }\n",
       "\n",
       "    .dataframe thead th {\n",
       "        text-align: right;\n",
       "    }\n",
       "</style>\n",
       "<table border=\"1\" class=\"dataframe\">\n",
       "  <thead>\n",
       "    <tr style=\"text-align: right;\">\n",
       "      <th></th>\n",
       "      <th>age</th>\n",
       "      <th>gender</th>\n",
       "      <th>region</th>\n",
       "      <th>marital_status</th>\n",
       "      <th>number_of_dependants</th>\n",
       "      <th>bmi_category</th>\n",
       "      <th>smoking_status</th>\n",
       "      <th>employment_status</th>\n",
       "      <th>income_level</th>\n",
       "      <th>income_lakhs</th>\n",
       "      <th>insurance_plan</th>\n",
       "      <th>genetical_risk</th>\n",
       "      <th>total_risk_score</th>\n",
       "    </tr>\n",
       "  </thead>\n",
       "  <tbody>\n",
       "    <tr>\n",
       "      <th>28182</th>\n",
       "      <td>51</td>\n",
       "      <td>Male</td>\n",
       "      <td>Southeast</td>\n",
       "      <td>Unmarried</td>\n",
       "      <td>0</td>\n",
       "      <td>Obesity</td>\n",
       "      <td>Occasional</td>\n",
       "      <td>Freelancer</td>\n",
       "      <td>&lt;10L</td>\n",
       "      <td>2</td>\n",
       "      <td>Silver</td>\n",
       "      <td>0</td>\n",
       "      <td>5.0</td>\n",
       "    </tr>\n",
       "    <tr>\n",
       "      <th>16847</th>\n",
       "      <td>49</td>\n",
       "      <td>Male</td>\n",
       "      <td>Northwest</td>\n",
       "      <td>Married</td>\n",
       "      <td>3</td>\n",
       "      <td>Overweight</td>\n",
       "      <td>No Smoking</td>\n",
       "      <td>Salaried</td>\n",
       "      <td>&lt;10L</td>\n",
       "      <td>2</td>\n",
       "      <td>Silver</td>\n",
       "      <td>0</td>\n",
       "      <td>6.0</td>\n",
       "    </tr>\n",
       "  </tbody>\n",
       "</table>\n",
       "</div>"
      ],
      "text/plain": [
       "       age gender     region marital_status  number_of_dependants  \\\n",
       "28182   51   Male  Southeast      Unmarried                     0   \n",
       "16847   49   Male  Northwest        Married                     3   \n",
       "\n",
       "      bmi_category smoking_status employment_status income_level  \\\n",
       "28182      Obesity     Occasional        Freelancer         <10L   \n",
       "16847   Overweight     No Smoking          Salaried         <10L   \n",
       "\n",
       "       income_lakhs insurance_plan  genetical_risk  total_risk_score  \n",
       "28182             2         Silver               0               5.0  \n",
       "16847             2         Silver               0               6.0  "
      ]
     },
     "execution_count": 76,
     "metadata": {},
     "output_type": "execute_result"
    }
   ],
   "source": [
    "x=df_.drop(columns='annual_premium_amount')\n",
    "y=df_['annual_premium_amount']\n",
    "x_train,x_test,y_train,y_test=train_test_split(x,y,random_state=42,test_size=.3)\n",
    "x_train.head(2)"
   ]
  },
  {
   "cell_type": "code",
   "execution_count": 77,
   "id": "57b07bd9-6849-445f-ab44-c1b20ea32913",
   "metadata": {},
   "outputs": [
    {
     "data": {
      "text/plain": [
       "(20834, 13)"
      ]
     },
     "execution_count": 77,
     "metadata": {},
     "output_type": "execute_result"
    }
   ],
   "source": [
    "x_train.shape"
   ]
  },
  {
   "cell_type": "code",
   "execution_count": 78,
   "id": "5bda980b-6b3b-4505-a4f7-45995cddf63e",
   "metadata": {},
   "outputs": [
    {
     "data": {
      "text/plain": [
       "Index(['age', 'number_of_dependants', 'income_lakhs', 'genetical_risk',\n",
       "       'total_risk_score'],\n",
       "      dtype='object')"
      ]
     },
     "execution_count": 78,
     "metadata": {},
     "output_type": "execute_result"
    }
   ],
   "source": [
    "x_train.select_dtypes(['int64','float64']).columns"
   ]
  },
  {
   "cell_type": "code",
   "execution_count": 79,
   "id": "2802b1e7-4e54-49da-85bf-03eee913a5ec",
   "metadata": {},
   "outputs": [],
   "source": [
    "nominal_col=['gender','region','marital_status','bmi_category','smoking_status','employment_status']\n",
    "num_features = ['age', 'number_of_dependants', 'income_lakhs', 'genetical_risk', 'total_risk_score']"
   ]
  },
  {
   "cell_type": "code",
   "execution_count": 80,
   "id": "487155f0-0a3e-40b0-b986-f2742fa8f10c",
   "metadata": {},
   "outputs": [],
   "source": [
    "category=[\n",
    "    ['<10L', '10L - 25L', '25L - 40L','> 40L'],\n",
    "    ['Bronze','Silver','Gold']\n",
    "]\n",
    "\n",
    "preprocessor=ColumnTransformer(transformers=[\n",
    "    \n",
    "    ('ord_en', OrdinalEncoder(categories=category),['income_level','insurance_plan']),\n",
    "    ('scaling',MinMaxScaler(), num_features),\n",
    "    ('nominal_en',OneHotEncoder(drop='first',dtype=int), nominal_col)\n",
    "    \n",
    "])"
   ]
  },
  {
   "cell_type": "markdown",
   "id": "4653a1a3-e107-4f41-98dd-1b4ad4c6c1b2",
   "metadata": {},
   "source": [
    "### Make pipeline & Export Model"
   ]
  },
  {
   "cell_type": "code",
   "execution_count": 81,
   "id": "32658cc1-5140-4c3f-bd56-533e6f4bb45f",
   "metadata": {},
   "outputs": [],
   "source": [
    "from xgboost import XGBRegressor\n",
    "from sklearn.pipeline import Pipeline\n",
    "\n",
    "pipe=Pipeline([\n",
    "    ('preprocessor', preprocessor),\n",
    "    ('model', XGBRegressor())\n",
    "])"
   ]
  },
  {
   "cell_type": "code",
   "execution_count": 82,
   "id": "78477a9d-d7fb-40ee-a5f7-7d5fae2884a0",
   "metadata": {},
   "outputs": [
    {
     "data": {
      "text/html": [
       "<style>#sk-container-id-1 {\n",
       "  /* Definition of color scheme common for light and dark mode */\n",
       "  --sklearn-color-text: black;\n",
       "  --sklearn-color-line: gray;\n",
       "  /* Definition of color scheme for unfitted estimators */\n",
       "  --sklearn-color-unfitted-level-0: #fff5e6;\n",
       "  --sklearn-color-unfitted-level-1: #f6e4d2;\n",
       "  --sklearn-color-unfitted-level-2: #ffe0b3;\n",
       "  --sklearn-color-unfitted-level-3: chocolate;\n",
       "  /* Definition of color scheme for fitted estimators */\n",
       "  --sklearn-color-fitted-level-0: #f0f8ff;\n",
       "  --sklearn-color-fitted-level-1: #d4ebff;\n",
       "  --sklearn-color-fitted-level-2: #b3dbfd;\n",
       "  --sklearn-color-fitted-level-3: cornflowerblue;\n",
       "\n",
       "  /* Specific color for light theme */\n",
       "  --sklearn-color-text-on-default-background: var(--sg-text-color, var(--theme-code-foreground, var(--jp-content-font-color1, black)));\n",
       "  --sklearn-color-background: var(--sg-background-color, var(--theme-background, var(--jp-layout-color0, white)));\n",
       "  --sklearn-color-border-box: var(--sg-text-color, var(--theme-code-foreground, var(--jp-content-font-color1, black)));\n",
       "  --sklearn-color-icon: #696969;\n",
       "\n",
       "  @media (prefers-color-scheme: dark) {\n",
       "    /* Redefinition of color scheme for dark theme */\n",
       "    --sklearn-color-text-on-default-background: var(--sg-text-color, var(--theme-code-foreground, var(--jp-content-font-color1, white)));\n",
       "    --sklearn-color-background: var(--sg-background-color, var(--theme-background, var(--jp-layout-color0, #111)));\n",
       "    --sklearn-color-border-box: var(--sg-text-color, var(--theme-code-foreground, var(--jp-content-font-color1, white)));\n",
       "    --sklearn-color-icon: #878787;\n",
       "  }\n",
       "}\n",
       "\n",
       "#sk-container-id-1 {\n",
       "  color: var(--sklearn-color-text);\n",
       "}\n",
       "\n",
       "#sk-container-id-1 pre {\n",
       "  padding: 0;\n",
       "}\n",
       "\n",
       "#sk-container-id-1 input.sk-hidden--visually {\n",
       "  border: 0;\n",
       "  clip: rect(1px 1px 1px 1px);\n",
       "  clip: rect(1px, 1px, 1px, 1px);\n",
       "  height: 1px;\n",
       "  margin: -1px;\n",
       "  overflow: hidden;\n",
       "  padding: 0;\n",
       "  position: absolute;\n",
       "  width: 1px;\n",
       "}\n",
       "\n",
       "#sk-container-id-1 div.sk-dashed-wrapped {\n",
       "  border: 1px dashed var(--sklearn-color-line);\n",
       "  margin: 0 0.4em 0.5em 0.4em;\n",
       "  box-sizing: border-box;\n",
       "  padding-bottom: 0.4em;\n",
       "  background-color: var(--sklearn-color-background);\n",
       "}\n",
       "\n",
       "#sk-container-id-1 div.sk-container {\n",
       "  /* jupyter's `normalize.less` sets `[hidden] { display: none; }`\n",
       "     but bootstrap.min.css set `[hidden] { display: none !important; }`\n",
       "     so we also need the `!important` here to be able to override the\n",
       "     default hidden behavior on the sphinx rendered scikit-learn.org.\n",
       "     See: https://github.com/scikit-learn/scikit-learn/issues/21755 */\n",
       "  display: inline-block !important;\n",
       "  position: relative;\n",
       "}\n",
       "\n",
       "#sk-container-id-1 div.sk-text-repr-fallback {\n",
       "  display: none;\n",
       "}\n",
       "\n",
       "div.sk-parallel-item,\n",
       "div.sk-serial,\n",
       "div.sk-item {\n",
       "  /* draw centered vertical line to link estimators */\n",
       "  background-image: linear-gradient(var(--sklearn-color-text-on-default-background), var(--sklearn-color-text-on-default-background));\n",
       "  background-size: 2px 100%;\n",
       "  background-repeat: no-repeat;\n",
       "  background-position: center center;\n",
       "}\n",
       "\n",
       "/* Parallel-specific style estimator block */\n",
       "\n",
       "#sk-container-id-1 div.sk-parallel-item::after {\n",
       "  content: \"\";\n",
       "  width: 100%;\n",
       "  border-bottom: 2px solid var(--sklearn-color-text-on-default-background);\n",
       "  flex-grow: 1;\n",
       "}\n",
       "\n",
       "#sk-container-id-1 div.sk-parallel {\n",
       "  display: flex;\n",
       "  align-items: stretch;\n",
       "  justify-content: center;\n",
       "  background-color: var(--sklearn-color-background);\n",
       "  position: relative;\n",
       "}\n",
       "\n",
       "#sk-container-id-1 div.sk-parallel-item {\n",
       "  display: flex;\n",
       "  flex-direction: column;\n",
       "}\n",
       "\n",
       "#sk-container-id-1 div.sk-parallel-item:first-child::after {\n",
       "  align-self: flex-end;\n",
       "  width: 50%;\n",
       "}\n",
       "\n",
       "#sk-container-id-1 div.sk-parallel-item:last-child::after {\n",
       "  align-self: flex-start;\n",
       "  width: 50%;\n",
       "}\n",
       "\n",
       "#sk-container-id-1 div.sk-parallel-item:only-child::after {\n",
       "  width: 0;\n",
       "}\n",
       "\n",
       "/* Serial-specific style estimator block */\n",
       "\n",
       "#sk-container-id-1 div.sk-serial {\n",
       "  display: flex;\n",
       "  flex-direction: column;\n",
       "  align-items: center;\n",
       "  background-color: var(--sklearn-color-background);\n",
       "  padding-right: 1em;\n",
       "  padding-left: 1em;\n",
       "}\n",
       "\n",
       "\n",
       "/* Toggleable style: style used for estimator/Pipeline/ColumnTransformer box that is\n",
       "clickable and can be expanded/collapsed.\n",
       "- Pipeline and ColumnTransformer use this feature and define the default style\n",
       "- Estimators will overwrite some part of the style using the `sk-estimator` class\n",
       "*/\n",
       "\n",
       "/* Pipeline and ColumnTransformer style (default) */\n",
       "\n",
       "#sk-container-id-1 div.sk-toggleable {\n",
       "  /* Default theme specific background. It is overwritten whether we have a\n",
       "  specific estimator or a Pipeline/ColumnTransformer */\n",
       "  background-color: var(--sklearn-color-background);\n",
       "}\n",
       "\n",
       "/* Toggleable label */\n",
       "#sk-container-id-1 label.sk-toggleable__label {\n",
       "  cursor: pointer;\n",
       "  display: block;\n",
       "  width: 100%;\n",
       "  margin-bottom: 0;\n",
       "  padding: 0.5em;\n",
       "  box-sizing: border-box;\n",
       "  text-align: center;\n",
       "}\n",
       "\n",
       "#sk-container-id-1 label.sk-toggleable__label-arrow:before {\n",
       "  /* Arrow on the left of the label */\n",
       "  content: \"▸\";\n",
       "  float: left;\n",
       "  margin-right: 0.25em;\n",
       "  color: var(--sklearn-color-icon);\n",
       "}\n",
       "\n",
       "#sk-container-id-1 label.sk-toggleable__label-arrow:hover:before {\n",
       "  color: var(--sklearn-color-text);\n",
       "}\n",
       "\n",
       "/* Toggleable content - dropdown */\n",
       "\n",
       "#sk-container-id-1 div.sk-toggleable__content {\n",
       "  max-height: 0;\n",
       "  max-width: 0;\n",
       "  overflow: hidden;\n",
       "  text-align: left;\n",
       "  /* unfitted */\n",
       "  background-color: var(--sklearn-color-unfitted-level-0);\n",
       "}\n",
       "\n",
       "#sk-container-id-1 div.sk-toggleable__content.fitted {\n",
       "  /* fitted */\n",
       "  background-color: var(--sklearn-color-fitted-level-0);\n",
       "}\n",
       "\n",
       "#sk-container-id-1 div.sk-toggleable__content pre {\n",
       "  margin: 0.2em;\n",
       "  border-radius: 0.25em;\n",
       "  color: var(--sklearn-color-text);\n",
       "  /* unfitted */\n",
       "  background-color: var(--sklearn-color-unfitted-level-0);\n",
       "}\n",
       "\n",
       "#sk-container-id-1 div.sk-toggleable__content.fitted pre {\n",
       "  /* unfitted */\n",
       "  background-color: var(--sklearn-color-fitted-level-0);\n",
       "}\n",
       "\n",
       "#sk-container-id-1 input.sk-toggleable__control:checked~div.sk-toggleable__content {\n",
       "  /* Expand drop-down */\n",
       "  max-height: 200px;\n",
       "  max-width: 100%;\n",
       "  overflow: auto;\n",
       "}\n",
       "\n",
       "#sk-container-id-1 input.sk-toggleable__control:checked~label.sk-toggleable__label-arrow:before {\n",
       "  content: \"▾\";\n",
       "}\n",
       "\n",
       "/* Pipeline/ColumnTransformer-specific style */\n",
       "\n",
       "#sk-container-id-1 div.sk-label input.sk-toggleable__control:checked~label.sk-toggleable__label {\n",
       "  color: var(--sklearn-color-text);\n",
       "  background-color: var(--sklearn-color-unfitted-level-2);\n",
       "}\n",
       "\n",
       "#sk-container-id-1 div.sk-label.fitted input.sk-toggleable__control:checked~label.sk-toggleable__label {\n",
       "  background-color: var(--sklearn-color-fitted-level-2);\n",
       "}\n",
       "\n",
       "/* Estimator-specific style */\n",
       "\n",
       "/* Colorize estimator box */\n",
       "#sk-container-id-1 div.sk-estimator input.sk-toggleable__control:checked~label.sk-toggleable__label {\n",
       "  /* unfitted */\n",
       "  background-color: var(--sklearn-color-unfitted-level-2);\n",
       "}\n",
       "\n",
       "#sk-container-id-1 div.sk-estimator.fitted input.sk-toggleable__control:checked~label.sk-toggleable__label {\n",
       "  /* fitted */\n",
       "  background-color: var(--sklearn-color-fitted-level-2);\n",
       "}\n",
       "\n",
       "#sk-container-id-1 div.sk-label label.sk-toggleable__label,\n",
       "#sk-container-id-1 div.sk-label label {\n",
       "  /* The background is the default theme color */\n",
       "  color: var(--sklearn-color-text-on-default-background);\n",
       "}\n",
       "\n",
       "/* On hover, darken the color of the background */\n",
       "#sk-container-id-1 div.sk-label:hover label.sk-toggleable__label {\n",
       "  color: var(--sklearn-color-text);\n",
       "  background-color: var(--sklearn-color-unfitted-level-2);\n",
       "}\n",
       "\n",
       "/* Label box, darken color on hover, fitted */\n",
       "#sk-container-id-1 div.sk-label.fitted:hover label.sk-toggleable__label.fitted {\n",
       "  color: var(--sklearn-color-text);\n",
       "  background-color: var(--sklearn-color-fitted-level-2);\n",
       "}\n",
       "\n",
       "/* Estimator label */\n",
       "\n",
       "#sk-container-id-1 div.sk-label label {\n",
       "  font-family: monospace;\n",
       "  font-weight: bold;\n",
       "  display: inline-block;\n",
       "  line-height: 1.2em;\n",
       "}\n",
       "\n",
       "#sk-container-id-1 div.sk-label-container {\n",
       "  text-align: center;\n",
       "}\n",
       "\n",
       "/* Estimator-specific */\n",
       "#sk-container-id-1 div.sk-estimator {\n",
       "  font-family: monospace;\n",
       "  border: 1px dotted var(--sklearn-color-border-box);\n",
       "  border-radius: 0.25em;\n",
       "  box-sizing: border-box;\n",
       "  margin-bottom: 0.5em;\n",
       "  /* unfitted */\n",
       "  background-color: var(--sklearn-color-unfitted-level-0);\n",
       "}\n",
       "\n",
       "#sk-container-id-1 div.sk-estimator.fitted {\n",
       "  /* fitted */\n",
       "  background-color: var(--sklearn-color-fitted-level-0);\n",
       "}\n",
       "\n",
       "/* on hover */\n",
       "#sk-container-id-1 div.sk-estimator:hover {\n",
       "  /* unfitted */\n",
       "  background-color: var(--sklearn-color-unfitted-level-2);\n",
       "}\n",
       "\n",
       "#sk-container-id-1 div.sk-estimator.fitted:hover {\n",
       "  /* fitted */\n",
       "  background-color: var(--sklearn-color-fitted-level-2);\n",
       "}\n",
       "\n",
       "/* Specification for estimator info (e.g. \"i\" and \"?\") */\n",
       "\n",
       "/* Common style for \"i\" and \"?\" */\n",
       "\n",
       ".sk-estimator-doc-link,\n",
       "a:link.sk-estimator-doc-link,\n",
       "a:visited.sk-estimator-doc-link {\n",
       "  float: right;\n",
       "  font-size: smaller;\n",
       "  line-height: 1em;\n",
       "  font-family: monospace;\n",
       "  background-color: var(--sklearn-color-background);\n",
       "  border-radius: 1em;\n",
       "  height: 1em;\n",
       "  width: 1em;\n",
       "  text-decoration: none !important;\n",
       "  margin-left: 1ex;\n",
       "  /* unfitted */\n",
       "  border: var(--sklearn-color-unfitted-level-1) 1pt solid;\n",
       "  color: var(--sklearn-color-unfitted-level-1);\n",
       "}\n",
       "\n",
       ".sk-estimator-doc-link.fitted,\n",
       "a:link.sk-estimator-doc-link.fitted,\n",
       "a:visited.sk-estimator-doc-link.fitted {\n",
       "  /* fitted */\n",
       "  border: var(--sklearn-color-fitted-level-1) 1pt solid;\n",
       "  color: var(--sklearn-color-fitted-level-1);\n",
       "}\n",
       "\n",
       "/* On hover */\n",
       "div.sk-estimator:hover .sk-estimator-doc-link:hover,\n",
       ".sk-estimator-doc-link:hover,\n",
       "div.sk-label-container:hover .sk-estimator-doc-link:hover,\n",
       ".sk-estimator-doc-link:hover {\n",
       "  /* unfitted */\n",
       "  background-color: var(--sklearn-color-unfitted-level-3);\n",
       "  color: var(--sklearn-color-background);\n",
       "  text-decoration: none;\n",
       "}\n",
       "\n",
       "div.sk-estimator.fitted:hover .sk-estimator-doc-link.fitted:hover,\n",
       ".sk-estimator-doc-link.fitted:hover,\n",
       "div.sk-label-container:hover .sk-estimator-doc-link.fitted:hover,\n",
       ".sk-estimator-doc-link.fitted:hover {\n",
       "  /* fitted */\n",
       "  background-color: var(--sklearn-color-fitted-level-3);\n",
       "  color: var(--sklearn-color-background);\n",
       "  text-decoration: none;\n",
       "}\n",
       "\n",
       "/* Span, style for the box shown on hovering the info icon */\n",
       ".sk-estimator-doc-link span {\n",
       "  display: none;\n",
       "  z-index: 9999;\n",
       "  position: relative;\n",
       "  font-weight: normal;\n",
       "  right: .2ex;\n",
       "  padding: .5ex;\n",
       "  margin: .5ex;\n",
       "  width: min-content;\n",
       "  min-width: 20ex;\n",
       "  max-width: 50ex;\n",
       "  color: var(--sklearn-color-text);\n",
       "  box-shadow: 2pt 2pt 4pt #999;\n",
       "  /* unfitted */\n",
       "  background: var(--sklearn-color-unfitted-level-0);\n",
       "  border: .5pt solid var(--sklearn-color-unfitted-level-3);\n",
       "}\n",
       "\n",
       ".sk-estimator-doc-link.fitted span {\n",
       "  /* fitted */\n",
       "  background: var(--sklearn-color-fitted-level-0);\n",
       "  border: var(--sklearn-color-fitted-level-3);\n",
       "}\n",
       "\n",
       ".sk-estimator-doc-link:hover span {\n",
       "  display: block;\n",
       "}\n",
       "\n",
       "/* \"?\"-specific style due to the `<a>` HTML tag */\n",
       "\n",
       "#sk-container-id-1 a.estimator_doc_link {\n",
       "  float: right;\n",
       "  font-size: 1rem;\n",
       "  line-height: 1em;\n",
       "  font-family: monospace;\n",
       "  background-color: var(--sklearn-color-background);\n",
       "  border-radius: 1rem;\n",
       "  height: 1rem;\n",
       "  width: 1rem;\n",
       "  text-decoration: none;\n",
       "  /* unfitted */\n",
       "  color: var(--sklearn-color-unfitted-level-1);\n",
       "  border: var(--sklearn-color-unfitted-level-1) 1pt solid;\n",
       "}\n",
       "\n",
       "#sk-container-id-1 a.estimator_doc_link.fitted {\n",
       "  /* fitted */\n",
       "  border: var(--sklearn-color-fitted-level-1) 1pt solid;\n",
       "  color: var(--sklearn-color-fitted-level-1);\n",
       "}\n",
       "\n",
       "/* On hover */\n",
       "#sk-container-id-1 a.estimator_doc_link:hover {\n",
       "  /* unfitted */\n",
       "  background-color: var(--sklearn-color-unfitted-level-3);\n",
       "  color: var(--sklearn-color-background);\n",
       "  text-decoration: none;\n",
       "}\n",
       "\n",
       "#sk-container-id-1 a.estimator_doc_link.fitted:hover {\n",
       "  /* fitted */\n",
       "  background-color: var(--sklearn-color-fitted-level-3);\n",
       "}\n",
       "</style><div id=\"sk-container-id-1\" class=\"sk-top-container\"><div class=\"sk-text-repr-fallback\"><pre>Pipeline(steps=[(&#x27;preprocessor&#x27;,\n",
       "                 ColumnTransformer(transformers=[(&#x27;ord_en&#x27;,\n",
       "                                                  OrdinalEncoder(categories=[[&#x27;&lt;10L&#x27;,\n",
       "                                                                              &#x27;10L &#x27;\n",
       "                                                                              &#x27;- &#x27;\n",
       "                                                                              &#x27;25L&#x27;,\n",
       "                                                                              &#x27;25L &#x27;\n",
       "                                                                              &#x27;- &#x27;\n",
       "                                                                              &#x27;40L&#x27;,\n",
       "                                                                              &#x27;&gt; &#x27;\n",
       "                                                                              &#x27;40L&#x27;],\n",
       "                                                                             [&#x27;Bronze&#x27;,\n",
       "                                                                              &#x27;Silver&#x27;,\n",
       "                                                                              &#x27;Gold&#x27;]]),\n",
       "                                                  [&#x27;income_level&#x27;,\n",
       "                                                   &#x27;insurance_plan&#x27;]),\n",
       "                                                 (&#x27;scaling&#x27;, MinMaxScaler(),\n",
       "                                                  [&#x27;age&#x27;,\n",
       "                                                   &#x27;number_of_dependants&#x27;,\n",
       "                                                   &#x27;income_lakhs&#x27;,\n",
       "                                                   &#x27;genetical_risk&#x27;,\n",
       "                                                   &#x27;total_risk_score&#x27;]),\n",
       "                                                 (&#x27;nominal_en&#x27;,\n",
       "                                                  OneHotEncoder(dr...\n",
       "                              feature_types=None, gamma=None, grow_policy=None,\n",
       "                              importance_type=None,\n",
       "                              interaction_constraints=None, learning_rate=None,\n",
       "                              max_bin=None, max_cat_threshold=None,\n",
       "                              max_cat_to_onehot=None, max_delta_step=None,\n",
       "                              max_depth=None, max_leaves=None,\n",
       "                              min_child_weight=None, missing=nan,\n",
       "                              monotone_constraints=None, multi_strategy=None,\n",
       "                              n_estimators=None, n_jobs=None,\n",
       "                              num_parallel_tree=None, random_state=None, ...))])</pre><b>In a Jupyter environment, please rerun this cell to show the HTML representation or trust the notebook. <br />On GitHub, the HTML representation is unable to render, please try loading this page with nbviewer.org.</b></div><div class=\"sk-container\" hidden><div class=\"sk-item sk-dashed-wrapped\"><div class=\"sk-label-container\"><div class=\"sk-label fitted sk-toggleable\"><input class=\"sk-toggleable__control sk-hidden--visually\" id=\"sk-estimator-id-1\" type=\"checkbox\" ><label for=\"sk-estimator-id-1\" class=\"sk-toggleable__label fitted sk-toggleable__label-arrow fitted\">&nbsp;&nbsp;Pipeline<a class=\"sk-estimator-doc-link fitted\" rel=\"noreferrer\" target=\"_blank\" href=\"https://scikit-learn.org/1.5/modules/generated/sklearn.pipeline.Pipeline.html\">?<span>Documentation for Pipeline</span></a><span class=\"sk-estimator-doc-link fitted\">i<span>Fitted</span></span></label><div class=\"sk-toggleable__content fitted\"><pre>Pipeline(steps=[(&#x27;preprocessor&#x27;,\n",
       "                 ColumnTransformer(transformers=[(&#x27;ord_en&#x27;,\n",
       "                                                  OrdinalEncoder(categories=[[&#x27;&lt;10L&#x27;,\n",
       "                                                                              &#x27;10L &#x27;\n",
       "                                                                              &#x27;- &#x27;\n",
       "                                                                              &#x27;25L&#x27;,\n",
       "                                                                              &#x27;25L &#x27;\n",
       "                                                                              &#x27;- &#x27;\n",
       "                                                                              &#x27;40L&#x27;,\n",
       "                                                                              &#x27;&gt; &#x27;\n",
       "                                                                              &#x27;40L&#x27;],\n",
       "                                                                             [&#x27;Bronze&#x27;,\n",
       "                                                                              &#x27;Silver&#x27;,\n",
       "                                                                              &#x27;Gold&#x27;]]),\n",
       "                                                  [&#x27;income_level&#x27;,\n",
       "                                                   &#x27;insurance_plan&#x27;]),\n",
       "                                                 (&#x27;scaling&#x27;, MinMaxScaler(),\n",
       "                                                  [&#x27;age&#x27;,\n",
       "                                                   &#x27;number_of_dependants&#x27;,\n",
       "                                                   &#x27;income_lakhs&#x27;,\n",
       "                                                   &#x27;genetical_risk&#x27;,\n",
       "                                                   &#x27;total_risk_score&#x27;]),\n",
       "                                                 (&#x27;nominal_en&#x27;,\n",
       "                                                  OneHotEncoder(dr...\n",
       "                              feature_types=None, gamma=None, grow_policy=None,\n",
       "                              importance_type=None,\n",
       "                              interaction_constraints=None, learning_rate=None,\n",
       "                              max_bin=None, max_cat_threshold=None,\n",
       "                              max_cat_to_onehot=None, max_delta_step=None,\n",
       "                              max_depth=None, max_leaves=None,\n",
       "                              min_child_weight=None, missing=nan,\n",
       "                              monotone_constraints=None, multi_strategy=None,\n",
       "                              n_estimators=None, n_jobs=None,\n",
       "                              num_parallel_tree=None, random_state=None, ...))])</pre></div> </div></div><div class=\"sk-serial\"><div class=\"sk-item sk-dashed-wrapped\"><div class=\"sk-label-container\"><div class=\"sk-label fitted sk-toggleable\"><input class=\"sk-toggleable__control sk-hidden--visually\" id=\"sk-estimator-id-2\" type=\"checkbox\" ><label for=\"sk-estimator-id-2\" class=\"sk-toggleable__label fitted sk-toggleable__label-arrow fitted\">&nbsp;preprocessor: ColumnTransformer<a class=\"sk-estimator-doc-link fitted\" rel=\"noreferrer\" target=\"_blank\" href=\"https://scikit-learn.org/1.5/modules/generated/sklearn.compose.ColumnTransformer.html\">?<span>Documentation for preprocessor: ColumnTransformer</span></a></label><div class=\"sk-toggleable__content fitted\"><pre>ColumnTransformer(transformers=[(&#x27;ord_en&#x27;,\n",
       "                                 OrdinalEncoder(categories=[[&#x27;&lt;10L&#x27;,\n",
       "                                                             &#x27;10L - 25L&#x27;,\n",
       "                                                             &#x27;25L - 40L&#x27;,\n",
       "                                                             &#x27;&gt; 40L&#x27;],\n",
       "                                                            [&#x27;Bronze&#x27;, &#x27;Silver&#x27;,\n",
       "                                                             &#x27;Gold&#x27;]]),\n",
       "                                 [&#x27;income_level&#x27;, &#x27;insurance_plan&#x27;]),\n",
       "                                (&#x27;scaling&#x27;, MinMaxScaler(),\n",
       "                                 [&#x27;age&#x27;, &#x27;number_of_dependants&#x27;, &#x27;income_lakhs&#x27;,\n",
       "                                  &#x27;genetical_risk&#x27;, &#x27;total_risk_score&#x27;]),\n",
       "                                (&#x27;nominal_en&#x27;,\n",
       "                                 OneHotEncoder(drop=&#x27;first&#x27;,\n",
       "                                               dtype=&lt;class &#x27;int&#x27;&gt;),\n",
       "                                 [&#x27;gender&#x27;, &#x27;region&#x27;, &#x27;marital_status&#x27;,\n",
       "                                  &#x27;bmi_category&#x27;, &#x27;smoking_status&#x27;,\n",
       "                                  &#x27;employment_status&#x27;])])</pre></div> </div></div><div class=\"sk-parallel\"><div class=\"sk-parallel-item\"><div class=\"sk-item\"><div class=\"sk-label-container\"><div class=\"sk-label fitted sk-toggleable\"><input class=\"sk-toggleable__control sk-hidden--visually\" id=\"sk-estimator-id-3\" type=\"checkbox\" ><label for=\"sk-estimator-id-3\" class=\"sk-toggleable__label fitted sk-toggleable__label-arrow fitted\">ord_en</label><div class=\"sk-toggleable__content fitted\"><pre>[&#x27;income_level&#x27;, &#x27;insurance_plan&#x27;]</pre></div> </div></div><div class=\"sk-serial\"><div class=\"sk-item\"><div class=\"sk-estimator fitted sk-toggleable\"><input class=\"sk-toggleable__control sk-hidden--visually\" id=\"sk-estimator-id-4\" type=\"checkbox\" ><label for=\"sk-estimator-id-4\" class=\"sk-toggleable__label fitted sk-toggleable__label-arrow fitted\">&nbsp;OrdinalEncoder<a class=\"sk-estimator-doc-link fitted\" rel=\"noreferrer\" target=\"_blank\" href=\"https://scikit-learn.org/1.5/modules/generated/sklearn.preprocessing.OrdinalEncoder.html\">?<span>Documentation for OrdinalEncoder</span></a></label><div class=\"sk-toggleable__content fitted\"><pre>OrdinalEncoder(categories=[[&#x27;&lt;10L&#x27;, &#x27;10L - 25L&#x27;, &#x27;25L - 40L&#x27;, &#x27;&gt; 40L&#x27;],\n",
       "                           [&#x27;Bronze&#x27;, &#x27;Silver&#x27;, &#x27;Gold&#x27;]])</pre></div> </div></div></div></div></div><div class=\"sk-parallel-item\"><div class=\"sk-item\"><div class=\"sk-label-container\"><div class=\"sk-label fitted sk-toggleable\"><input class=\"sk-toggleable__control sk-hidden--visually\" id=\"sk-estimator-id-5\" type=\"checkbox\" ><label for=\"sk-estimator-id-5\" class=\"sk-toggleable__label fitted sk-toggleable__label-arrow fitted\">scaling</label><div class=\"sk-toggleable__content fitted\"><pre>[&#x27;age&#x27;, &#x27;number_of_dependants&#x27;, &#x27;income_lakhs&#x27;, &#x27;genetical_risk&#x27;, &#x27;total_risk_score&#x27;]</pre></div> </div></div><div class=\"sk-serial\"><div class=\"sk-item\"><div class=\"sk-estimator fitted sk-toggleable\"><input class=\"sk-toggleable__control sk-hidden--visually\" id=\"sk-estimator-id-6\" type=\"checkbox\" ><label for=\"sk-estimator-id-6\" class=\"sk-toggleable__label fitted sk-toggleable__label-arrow fitted\">&nbsp;MinMaxScaler<a class=\"sk-estimator-doc-link fitted\" rel=\"noreferrer\" target=\"_blank\" href=\"https://scikit-learn.org/1.5/modules/generated/sklearn.preprocessing.MinMaxScaler.html\">?<span>Documentation for MinMaxScaler</span></a></label><div class=\"sk-toggleable__content fitted\"><pre>MinMaxScaler()</pre></div> </div></div></div></div></div><div class=\"sk-parallel-item\"><div class=\"sk-item\"><div class=\"sk-label-container\"><div class=\"sk-label fitted sk-toggleable\"><input class=\"sk-toggleable__control sk-hidden--visually\" id=\"sk-estimator-id-7\" type=\"checkbox\" ><label for=\"sk-estimator-id-7\" class=\"sk-toggleable__label fitted sk-toggleable__label-arrow fitted\">nominal_en</label><div class=\"sk-toggleable__content fitted\"><pre>[&#x27;gender&#x27;, &#x27;region&#x27;, &#x27;marital_status&#x27;, &#x27;bmi_category&#x27;, &#x27;smoking_status&#x27;, &#x27;employment_status&#x27;]</pre></div> </div></div><div class=\"sk-serial\"><div class=\"sk-item\"><div class=\"sk-estimator fitted sk-toggleable\"><input class=\"sk-toggleable__control sk-hidden--visually\" id=\"sk-estimator-id-8\" type=\"checkbox\" ><label for=\"sk-estimator-id-8\" class=\"sk-toggleable__label fitted sk-toggleable__label-arrow fitted\">&nbsp;OneHotEncoder<a class=\"sk-estimator-doc-link fitted\" rel=\"noreferrer\" target=\"_blank\" href=\"https://scikit-learn.org/1.5/modules/generated/sklearn.preprocessing.OneHotEncoder.html\">?<span>Documentation for OneHotEncoder</span></a></label><div class=\"sk-toggleable__content fitted\"><pre>OneHotEncoder(drop=&#x27;first&#x27;, dtype=&lt;class &#x27;int&#x27;&gt;)</pre></div> </div></div></div></div></div></div></div><div class=\"sk-item\"><div class=\"sk-estimator fitted sk-toggleable\"><input class=\"sk-toggleable__control sk-hidden--visually\" id=\"sk-estimator-id-9\" type=\"checkbox\" ><label for=\"sk-estimator-id-9\" class=\"sk-toggleable__label fitted sk-toggleable__label-arrow fitted\">XGBRegressor</label><div class=\"sk-toggleable__content fitted\"><pre>XGBRegressor(base_score=None, booster=None, callbacks=None,\n",
       "             colsample_bylevel=None, colsample_bynode=None,\n",
       "             colsample_bytree=None, device=None, early_stopping_rounds=None,\n",
       "             enable_categorical=False, eval_metric=None, feature_types=None,\n",
       "             gamma=None, grow_policy=None, importance_type=None,\n",
       "             interaction_constraints=None, learning_rate=None, max_bin=None,\n",
       "             max_cat_threshold=None, max_cat_to_onehot=None,\n",
       "             max_delta_step=None, max_depth=None, max_leaves=None,\n",
       "             min_child_weight=None, missing=nan, monotone_constraints=None,\n",
       "             multi_strategy=None, n_estimators=None, n_jobs=None,\n",
       "             num_parallel_tree=None, random_state=None, ...)</pre></div> </div></div></div></div></div></div>"
      ],
      "text/plain": [
       "Pipeline(steps=[('preprocessor',\n",
       "                 ColumnTransformer(transformers=[('ord_en',\n",
       "                                                  OrdinalEncoder(categories=[['<10L',\n",
       "                                                                              '10L '\n",
       "                                                                              '- '\n",
       "                                                                              '25L',\n",
       "                                                                              '25L '\n",
       "                                                                              '- '\n",
       "                                                                              '40L',\n",
       "                                                                              '> '\n",
       "                                                                              '40L'],\n",
       "                                                                             ['Bronze',\n",
       "                                                                              'Silver',\n",
       "                                                                              'Gold']]),\n",
       "                                                  ['income_level',\n",
       "                                                   'insurance_plan']),\n",
       "                                                 ('scaling', MinMaxScaler(),\n",
       "                                                  ['age',\n",
       "                                                   'number_of_dependants',\n",
       "                                                   'income_lakhs',\n",
       "                                                   'genetical_risk',\n",
       "                                                   'total_risk_score']),\n",
       "                                                 ('nominal_en',\n",
       "                                                  OneHotEncoder(dr...\n",
       "                              feature_types=None, gamma=None, grow_policy=None,\n",
       "                              importance_type=None,\n",
       "                              interaction_constraints=None, learning_rate=None,\n",
       "                              max_bin=None, max_cat_threshold=None,\n",
       "                              max_cat_to_onehot=None, max_delta_step=None,\n",
       "                              max_depth=None, max_leaves=None,\n",
       "                              min_child_weight=None, missing=nan,\n",
       "                              monotone_constraints=None, multi_strategy=None,\n",
       "                              n_estimators=None, n_jobs=None,\n",
       "                              num_parallel_tree=None, random_state=None, ...))])"
      ]
     },
     "execution_count": 82,
     "metadata": {},
     "output_type": "execute_result"
    }
   ],
   "source": [
    "pipe.fit(x_train,y_train)"
   ]
  },
  {
   "cell_type": "code",
   "execution_count": 83,
   "id": "7fa35d84-8b1f-4c04-b1ee-48a0edb8045a",
   "metadata": {},
   "outputs": [
    {
     "data": {
      "text/plain": [
       "0.9979718923568726"
      ]
     },
     "execution_count": 83,
     "metadata": {},
     "output_type": "execute_result"
    }
   ],
   "source": [
    "pipe.score(x_test,y_test)"
   ]
  },
  {
   "cell_type": "code",
   "execution_count": 84,
   "id": "98be9dc5-ef46-477f-824d-f9cce21111af",
   "metadata": {},
   "outputs": [
    {
     "data": {
      "text/html": [
       "<div>\n",
       "<style scoped>\n",
       "    .dataframe tbody tr th:only-of-type {\n",
       "        vertical-align: middle;\n",
       "    }\n",
       "\n",
       "    .dataframe tbody tr th {\n",
       "        vertical-align: top;\n",
       "    }\n",
       "\n",
       "    .dataframe thead th {\n",
       "        text-align: right;\n",
       "    }\n",
       "</style>\n",
       "<table border=\"1\" class=\"dataframe\">\n",
       "  <thead>\n",
       "    <tr style=\"text-align: right;\">\n",
       "      <th></th>\n",
       "      <th>age</th>\n",
       "      <th>gender</th>\n",
       "      <th>region</th>\n",
       "      <th>marital_status</th>\n",
       "      <th>number_of_dependants</th>\n",
       "      <th>bmi_category</th>\n",
       "      <th>smoking_status</th>\n",
       "      <th>employment_status</th>\n",
       "      <th>income_level</th>\n",
       "      <th>income_lakhs</th>\n",
       "      <th>insurance_plan</th>\n",
       "      <th>genetical_risk</th>\n",
       "      <th>total_risk_score</th>\n",
       "    </tr>\n",
       "  </thead>\n",
       "  <tbody>\n",
       "    <tr>\n",
       "      <th>0</th>\n",
       "      <td>29</td>\n",
       "      <td>Female</td>\n",
       "      <td>Southeast</td>\n",
       "      <td>Unmarried</td>\n",
       "      <td>0</td>\n",
       "      <td>Underweight</td>\n",
       "      <td>No Smoking</td>\n",
       "      <td>Salaried</td>\n",
       "      <td>&lt;10L</td>\n",
       "      <td>2</td>\n",
       "      <td>Bronze</td>\n",
       "      <td>5</td>\n",
       "      <td>0.0</td>\n",
       "    </tr>\n",
       "  </tbody>\n",
       "</table>\n",
       "</div>"
      ],
      "text/plain": [
       "   age  gender     region marital_status  number_of_dependants bmi_category  \\\n",
       "0   29  Female  Southeast      Unmarried                     0  Underweight   \n",
       "\n",
       "  smoking_status employment_status income_level  income_lakhs insurance_plan  \\\n",
       "0     No Smoking          Salaried         <10L             2         Bronze   \n",
       "\n",
       "   genetical_risk  total_risk_score  \n",
       "0               5               0.0  "
      ]
     },
     "execution_count": 84,
     "metadata": {},
     "output_type": "execute_result"
    }
   ],
   "source": [
    "x = pd.DataFrame({\n",
    "    'age': [29],\n",
    "    'gender': ['Female'],\n",
    "    'region': ['Southeast'],\n",
    "    'marital_status': ['Unmarried'],\n",
    "    'number_of_dependants': [0],\n",
    "    'bmi_category': ['Underweight'],\n",
    "    'smoking_status': ['No Smoking'],\n",
    "    'employment_status': ['Salaried'],\n",
    "    'income_level': ['<10L'],\n",
    "    'income_lakhs': [2],\n",
    "    'insurance_plan': ['Bronze'],\n",
    "    'genetical_risk': [5],\n",
    "    'total_risk_score': [0.0]\n",
    "})\n",
    "x"
   ]
  },
  {
   "cell_type": "code",
   "execution_count": 85,
   "id": "15750485-44ad-4190-a0fc-b5cbcf0aa14d",
   "metadata": {},
   "outputs": [
    {
     "data": {
      "text/plain": [
       "array([7752.486], dtype=float32)"
      ]
     },
     "execution_count": 85,
     "metadata": {},
     "output_type": "execute_result"
    }
   ],
   "source": [
    "pipe.predict(x)"
   ]
  },
  {
   "cell_type": "code",
   "execution_count": null,
   "id": "f5d26f55-d57e-4714-8226-e1d1712349bf",
   "metadata": {},
   "outputs": [],
   "source": []
  },
  {
   "cell_type": "code",
   "execution_count": null,
   "id": "04ef0a70-5b00-4df8-bfe2-a3b85b0fcb0f",
   "metadata": {},
   "outputs": [],
   "source": []
  },
  {
   "cell_type": "code",
   "execution_count": 86,
   "id": "6469ac52-7e88-47f1-9f1b-1a095168169f",
   "metadata": {},
   "outputs": [
    {
     "data": {
      "text/plain": [
       "['artifacts/model_rest.joblib']"
      ]
     },
     "execution_count": 86,
     "metadata": {},
     "output_type": "execute_result"
    }
   ],
   "source": [
    "from joblib import dump\n",
    "dump(pipe,'artifacts/model_rest.joblib')"
   ]
  },
  {
   "cell_type": "code",
   "execution_count": null,
   "id": "474dad62-c39f-46a4-825d-d437c09aea69",
   "metadata": {},
   "outputs": [],
   "source": []
  },
  {
   "cell_type": "code",
   "execution_count": null,
   "id": "cdf9571c-d1fd-4dbc-9cf5-771aa1c0e142",
   "metadata": {},
   "outputs": [],
   "source": []
  },
  {
   "cell_type": "markdown",
   "id": "470939f3-d58c-409a-ae66-52bd46005e87",
   "metadata": {},
   "source": [
    "### build DataFrame after preprocess"
   ]
  },
  {
   "cell_type": "code",
   "execution_count": null,
   "id": "87d9e248-69af-4d46-bd34-1c27871c3eda",
   "metadata": {},
   "outputs": [],
   "source": [
    "x_train_transformed_aray = preprocessor.fit_transform(x_train)"
   ]
  },
  {
   "cell_type": "code",
   "execution_count": null,
   "id": "5049d3b3-3a3c-47ed-acc5-7ec70545c2ca",
   "metadata": {},
   "outputs": [],
   "source": [
    "x_test_transformed_array=preprocessor.transform(x_test)"
   ]
  },
  {
   "cell_type": "code",
   "execution_count": null,
   "id": "6f2d47f5-204e-4099-93f2-d9b4e5786866",
   "metadata": {},
   "outputs": [],
   "source": [
    "ord_en_features = preprocessor.named_transformers_['ord_en'].feature_names_in_\n",
    "scaling_features = preprocessor.named_transformers_['scaling'].feature_names_in_\n",
    "cat_features = preprocessor.named_transformers_['nominal_en'].get_feature_names_out(nominal_col)\n",
    "\n",
    "all_features = list(ord_en_features) + list(scaling_features) + list(cat_features)\n",
    "all_features"
   ]
  },
  {
   "cell_type": "code",
   "execution_count": null,
   "id": "5e7b3d4b-add5-45a2-92ad-c5a9af4b87ac",
   "metadata": {},
   "outputs": [],
   "source": [
    "x_train_process = pd.DataFrame(x_train_transformed_aray, columns=all_features, index=x_train.index)\n",
    "x_test_process = pd.DataFrame(x_test_transformed_array, columns=all_features, index=x_test.index)\n",
    "\n",
    "print(x_train_process.shape, x_train_process.shape)\n",
    "\n"
   ]
  },
  {
   "cell_type": "code",
   "execution_count": null,
   "id": "ad484401-c220-4851-9a7e-2c1b86c2a1e4",
   "metadata": {},
   "outputs": [],
   "source": [
    "for col in ['gender','region','marital_status','bmi_category','smoking_status','employment_status']:\n",
    "    print(col, \" :\" ,df_[col].unique())"
   ]
  },
  {
   "cell_type": "code",
   "execution_count": null,
   "id": "4616c89a-a75b-45aa-a2ea-eb650f78a0cd",
   "metadata": {},
   "outputs": [],
   "source": [
    "\n",
    "for col in ['gender','region','marital_status','bmi_category','smoking_status','employment_status']:\n",
    "    oh=OneHotEncoder(drop='first')\n",
    "    en = oh.fit_transform(df_[[col]])\n",
    "    print(col,' : ',en.shape)"
   ]
  },
  {
   "cell_type": "markdown",
   "id": "bcbb19c6-09c6-46c6-8ed5-94a428a8a361",
   "metadata": {},
   "source": [
    "### Model Train"
   ]
  },
  {
   "cell_type": "code",
   "execution_count": null,
   "id": "a59bdddd-1c8f-4725-8be5-f14fcfdf181a",
   "metadata": {},
   "outputs": [],
   "source": [
    "from sklearn.linear_model import LinearRegression,Ridge,Lasso\n",
    "from sklearn.metrics import classification_report\n",
    "lr = LinearRegression()\n",
    "lr.fit(x_train_process,y_train)"
   ]
  },
  {
   "cell_type": "code",
   "execution_count": null,
   "id": "406f6ff6-0d7a-4ea2-a36f-cdfe25758b36",
   "metadata": {},
   "outputs": [],
   "source": [
    "lr.score(x_test_process,y_test)\n"
   ]
  },
  {
   "cell_type": "code",
   "execution_count": null,
   "id": "99e5f71a-85a3-4059-a158-59804e88e315",
   "metadata": {},
   "outputs": [],
   "source": [
    "lr.score(x_train_process,y_train)"
   ]
  },
  {
   "cell_type": "markdown",
   "id": "1febabc6-4754-4e43-9a09-118186c84e4f",
   "metadata": {},
   "source": [
    "### Model Fine tune"
   ]
  },
  {
   "cell_type": "code",
   "execution_count": null,
   "id": "0c569b44-c931-463f-b3b7-19447c595b87",
   "metadata": {},
   "outputs": [],
   "source": [
    "lr1=Lasso()\n",
    "lr1.fit(x_train_process,y_train)\n",
    "lr1.score(x_test_process,y_test)"
   ]
  },
  {
   "cell_type": "code",
   "execution_count": null,
   "id": "b52b6111-38a3-4c4c-bfac-85a61a9a7fd9",
   "metadata": {},
   "outputs": [],
   "source": [
    "from sklearn.tree import DecisionTreeRegressor\n",
    "from sklearn.ensemble import RandomForestRegressor\n",
    "lr2=RandomForestRegressor()\n",
    "lr2.fit(x_train_process,y_train)\n",
    "lr2.score(x_test_process,y_test)"
   ]
  },
  {
   "cell_type": "code",
   "execution_count": null,
   "id": "5bb1cb32-2247-4e1c-ae26-eff426e4c6dc",
   "metadata": {},
   "outputs": [],
   "source": [
    "lr3=DecisionTreeRegressor()\n",
    "lr3.fit(x_train_process,y_train)\n",
    "lr3.score(x_test_process,y_test)"
   ]
  },
  {
   "cell_type": "code",
   "execution_count": null,
   "id": "eb206a8b-0ff1-41f5-9e8a-6639f47f55fa",
   "metadata": {},
   "outputs": [],
   "source": [
    "from xgboost import XGBRegressor\n",
    "model=XGBRegressor()\n",
    "model.fit(x_train_process,y_train)\n",
    "print(model.score(x_test_process,y_test), model.score(x_train_process,y_train))"
   ]
  },
  {
   "cell_type": "code",
   "execution_count": null,
   "id": "1f93c83b-facd-4abd-ba4e-4a56829ad1b2",
   "metadata": {},
   "outputs": [],
   "source": [
    "from sklearn.metrics import mean_squared_error\n",
    "y_p=model.predict(x_test_process)\n"
   ]
  },
  {
   "cell_type": "code",
   "execution_count": null,
   "id": "a5c0559a-cb66-4e44-bbc6-5265f6147d6e",
   "metadata": {},
   "outputs": [],
   "source": [
    "mean_squared_error(y_test,y_p)"
   ]
  },
  {
   "cell_type": "code",
   "execution_count": null,
   "id": "6127c3da-4d5e-493f-91ea-0e69102f6ea7",
   "metadata": {},
   "outputs": [],
   "source": [
    "x_test.index"
   ]
  },
  {
   "cell_type": "code",
   "execution_count": null,
   "id": "898c615a-7e3a-4fbf-adbe-9df040f47901",
   "metadata": {},
   "outputs": [],
   "source": [
    "x_test_process.index"
   ]
  },
  {
   "cell_type": "markdown",
   "id": "d4e16837-4aae-4081-b8e9-b8263a27fdde",
   "metadata": {},
   "source": [
    "### Eror Analysis"
   ]
  },
  {
   "cell_type": "code",
   "execution_count": null,
   "id": "9887bbc6-401b-4050-88f3-27c4e9262a80",
   "metadata": {},
   "outputs": [],
   "source": [
    "residuals = y_p - y_test"
   ]
  },
  {
   "cell_type": "code",
   "execution_count": null,
   "id": "f5c1873d-d7ca-4262-9f74-905406a42f58",
   "metadata": {},
   "outputs": [],
   "source": [
    "residuals_pct = residuals * 100 / y_test\n",
    "residuals_pct"
   ]
  },
  {
   "cell_type": "code",
   "execution_count": null,
   "id": "30098c61-29bb-45bc-9d67-bfb000a7b85a",
   "metadata": {},
   "outputs": [],
   "source": [
    "results_df=pd.DataFrame({\n",
    "    'actual':y_test,\n",
    "    'predict':y_p,\n",
    "    'diff':residuals,\n",
    "    'diff_pct':residuals_pct\n",
    "})\n",
    "results_df.head(3)"
   ]
  },
  {
   "cell_type": "code",
   "execution_count": null,
   "id": "1886f759-b4d1-4581-b52e-a8d767f943a4",
   "metadata": {},
   "outputs": [],
   "source": [
    "sns.histplot(results_df['diff_pct'], kde=True)"
   ]
  },
  {
   "cell_type": "code",
   "execution_count": null,
   "id": "7c1e0a38-1c73-4ebd-b42e-327ce86cb77e",
   "metadata": {},
   "outputs": [],
   "source": [
    "extreme_result_df = results_df[np.abs(results_df.diff_pct)>10]\n",
    "extreme_result_df.shape"
   ]
  },
  {
   "cell_type": "code",
   "execution_count": null,
   "id": "67521d3d-d051-4ec8-a527-45ef6f58f775",
   "metadata": {},
   "outputs": [],
   "source": [
    "extreme_errors_pct = extreme_result_df.shape[0]*100/results_df.shape[0]\n",
    "extreme_errors_pct"
   ]
  },
  {
   "cell_type": "code",
   "execution_count": null,
   "id": "d40af199-1f96-4509-83ce-c63bec729cea",
   "metadata": {
    "scrolled": true
   },
   "outputs": [],
   "source": [
    "results_df[np.abs(results_df.diff_pct)>10].sort_values('diff_pct', ascending=False)"
   ]
  },
  {
   "cell_type": "code",
   "execution_count": null,
   "id": "e2e02201-1d7e-4962-9da4-0986bb4b78df",
   "metadata": {},
   "outputs": [],
   "source": [
    "extreme_result_df.index "
   ]
  },
  {
   "cell_type": "code",
   "execution_count": null,
   "id": "c489c586-59a4-4f21-a442-384f9633c321",
   "metadata": {},
   "outputs": [],
   "source": [
    "x_test_process.index"
   ]
  },
  {
   "cell_type": "markdown",
   "id": "1abb9d0f-bd6f-4caf-8110-552b0ae44c61",
   "metadata": {},
   "source": [
    "### Actual aproach"
   ]
  },
  {
   "cell_type": "code",
   "execution_count": null,
   "id": "f0a82e91-2134-417a-9211-09726ce246ca",
   "metadata": {},
   "outputs": [],
   "source": [
    "extreme_errors_df = x_test_process.loc[extreme_result_df.index]\n",
    "extreme_errors_df.head(3)"
   ]
  },
  {
   "cell_type": "code",
   "execution_count": null,
   "id": "4ab92af4-82b4-47a6-b693-e3224496845a",
   "metadata": {},
   "outputs": [],
   "source": [
    "sns.histplot(extreme_errors_df.age, label='Extreme Errors', kde=True)\n",
    "sns.histplot(x_test_process.age, kde=True, label = 'Overall')\n",
    "plt.legend()\n",
    "plt.show()"
   ]
  },
  {
   "cell_type": "code",
   "execution_count": null,
   "id": "564e45d1-8bbd-4731-9066-03aff825d7fb",
   "metadata": {},
   "outputs": [],
   "source": [
    "for col in extreme_errors_df.columns:\n",
    "    plt.figure(figsize=(10,6))\n",
    "    sns.histplot(extreme_errors_df[col], label='Extreme Errors', kde=True,color='red')\n",
    "    sns.histplot(x_test_process[col], kde=True, label = 'Overall', color='blue')\n",
    "    plt.legend()\n",
    "    plt.title(f'Distribution of {col} for Extreme Errors vs Overall')\n",
    "    plt.show()"
   ]
  },
  {
   "cell_type": "code",
   "execution_count": null,
   "id": "1bcf3dea-6a0d-44c8-adf6-7d74998284ac",
   "metadata": {},
   "outputs": [],
   "source": [
    "sns.histplot(extreme_errors_df.age)\n",
    "plt.show()"
   ]
  },
  {
   "cell_type": "markdown",
   "id": "924427fe-2c25-4cc7-b45e-972d2a0f6593",
   "metadata": {},
   "source": [
    "### To get the actual age, reverse transform age\n"
   ]
  },
  {
   "cell_type": "code",
   "execution_count": null,
   "id": "8a0e3e4e-6f9b-4c6f-8588-5e89096953e8",
   "metadata": {},
   "outputs": [],
   "source": [
    "actual_errors = x_test.loc[extreme_result_df.index]\n",
    "actual_errors.head(3)"
   ]
  },
  {
   "cell_type": "code",
   "execution_count": null,
   "id": "20dff122-156a-4697-aa62-00351d006607",
   "metadata": {},
   "outputs": [],
   "source": [
    "sns.histplot(actual_errors.age)"
   ]
  },
  {
   "cell_type": "code",
   "execution_count": null,
   "id": "65cc2761-2175-4753-acfa-bf4dff30b774",
   "metadata": {},
   "outputs": [],
   "source": [
    " actual_errors.age.quantile(.999)"
   ]
  },
  {
   "cell_type": "code",
   "execution_count": null,
   "id": "8f97793e-c2c6-4d90-8d85-bab636dbd4c3",
   "metadata": {},
   "outputs": [],
   "source": []
  },
  {
   "cell_type": "code",
   "execution_count": null,
   "id": "3c907add-08f4-4975-b0e0-ae644299654d",
   "metadata": {},
   "outputs": [],
   "source": []
  }
 ],
 "metadata": {
  "kernelspec": {
   "display_name": "Python 3 (ipykernel)",
   "language": "python",
   "name": "python3"
  },
  "language_info": {
   "codemirror_mode": {
    "name": "ipython",
    "version": 3
   },
   "file_extension": ".py",
   "mimetype": "text/x-python",
   "name": "python",
   "nbconvert_exporter": "python",
   "pygments_lexer": "ipython3",
   "version": "3.12.6"
  }
 },
 "nbformat": 4,
 "nbformat_minor": 5
}
